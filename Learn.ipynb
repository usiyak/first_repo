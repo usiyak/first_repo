{
 "cells": [
  {
   "cell_type": "code",
   "execution_count": 1,
   "id": "a147cb05",
   "metadata": {},
   "outputs": [
    {
     "name": "stdout",
     "output_type": "stream",
     "text": [
      "This is the language of Java Script\n"
     ]
    }
   ],
   "source": [
    "language ='Java Script'\n",
    "print(f\"This is the language of {language}\") # used currently "
   ]
  },
  {
   "cell_type": "code",
   "execution_count": 2,
   "id": "5a100aa8",
   "metadata": {},
   "outputs": [
    {
     "ename": "AttributeError",
     "evalue": "'str' object has no attribute 'formate'",
     "output_type": "error",
     "traceback": [
      "\u001b[1;31m---------------------------------------------------------------------------\u001b[0m",
      "\u001b[1;31mAttributeError\u001b[0m                            Traceback (most recent call last)",
      "\u001b[1;32m~\\AppData\\Local\\Temp\\ipykernel_9912\\1275113153.py\u001b[0m in \u001b[0;36m<module>\u001b[1;34m\u001b[0m\n\u001b[0;32m      1\u001b[0m \u001b[0mlanguage\u001b[0m \u001b[1;33m=\u001b[0m\u001b[1;34m'Java Script'\u001b[0m\u001b[1;33m\u001b[0m\u001b[1;33m\u001b[0m\u001b[0m\n\u001b[1;32m----> 2\u001b[1;33m \u001b[0mprint\u001b[0m\u001b[1;33m(\u001b[0m\u001b[1;34m\"This is the language of {}\"\u001b[0m\u001b[1;33m.\u001b[0m\u001b[0mformate\u001b[0m\u001b[1;33m(\u001b[0m\u001b[0mlanguage\u001b[0m\u001b[1;33m)\u001b[0m\u001b[1;33m)\u001b[0m \u001b[1;31m# used currently\u001b[0m\u001b[1;33m\u001b[0m\u001b[1;33m\u001b[0m\u001b[0m\n\u001b[0m",
      "\u001b[1;31mAttributeError\u001b[0m: 'str' object has no attribute 'formate'"
     ]
    }
   ],
   "source": [
    "language ='Java Script'\n",
    "print(\"This is the language of {}\".formate(language)) # used currently "
   ]
  },
  {
   "cell_type": "code",
   "execution_count": 3,
   "id": "74037d91",
   "metadata": {},
   "outputs": [
    {
     "name": "stdout",
     "output_type": "stream",
     "text": [
      "This is the language of Java Script\n"
     ]
    }
   ],
   "source": [
    "language ='Java Script'\n",
    "print(\"This is the language of {}\".format(language)) # Old ways to fill the blanks using python "
   ]
  },
  {
   "cell_type": "code",
   "execution_count": 4,
   "id": "d0a5fff8",
   "metadata": {},
   "outputs": [
    {
     "name": "stdout",
     "output_type": "stream",
     "text": [
      "This is the first class of python\n"
     ]
    }
   ],
   "source": [
    "#fillig multiple blanks using format option\n",
    "num= 'first'\n",
    "language ='python'\n",
    "print(\"This is the {} class of {}\".format(num,language))"
   ]
  },
  {
   "cell_type": "code",
   "execution_count": 5,
   "id": "de5b8bf5",
   "metadata": {},
   "outputs": [
    {
     "name": "stdout",
     "output_type": "stream",
     "text": [
      "This is the first class of python\n"
     ]
    }
   ],
   "source": [
    "# we cam also use + sign to fill the blanks but not suggested and not professionl \n",
    "num= 'first'\n",
    "language ='python'\n",
    "print(\"This is the \"+num+\" class of \"+language+\"\")"
   ]
  },
  {
   "cell_type": "code",
   "execution_count": 6,
   "id": "01da4814",
   "metadata": {},
   "outputs": [
    {
     "name": "stdout",
     "output_type": "stream",
     "text": [
      "10\n",
      "12\n",
      "the result sum of a:10 and b:12 is c:22\n"
     ]
    }
   ],
   "source": [
    "a=int(input())\n",
    "b=int(input())\n",
    "c=a+b\n",
    "print(f\"the result sum of a:{a} and b:{b} is c:{c}\")"
   ]
  },
  {
   "cell_type": "code",
   "execution_count": 7,
   "id": "64009b7e",
   "metadata": {},
   "outputs": [
    {
     "name": "stdout",
     "output_type": "stream",
     "text": [
      "you are late\n"
     ]
    },
    {
     "data": {
      "text/plain": [
       "False"
      ]
     },
     "execution_count": 7,
     "metadata": {},
     "output_type": "execute_result"
    }
   ],
   "source": [
    "# small program with Bool data and if statement \n",
    "class_start_at =1500\n",
    "you_came_at =1600\n",
    "if you_came_at <class_start_at:\n",
    "    print('You are on time')\n",
    "else:\n",
    "    print(\"you are late\")\n",
    "you_came_at <class_start_at"
   ]
  },
  {
   "cell_type": "code",
   "execution_count": 8,
   "id": "195368f4",
   "metadata": {},
   "outputs": [],
   "source": [
    "# User input funtion and Type conversion in Python"
   ]
  },
  {
   "cell_type": "code",
   "execution_count": 9,
   "id": "9bf0b7a7",
   "metadata": {},
   "outputs": [],
   "source": [
    "# Multi variable assignement\n",
    "a,b,c=1,'one',1.0"
   ]
  },
  {
   "cell_type": "code",
   "execution_count": 10,
   "id": "1d16d835",
   "metadata": {},
   "outputs": [
    {
     "name": "stdout",
     "output_type": "stream",
     "text": [
      "<class 'int'>\n",
      "<class 'str'>\n",
      "<class 'float'>\n"
     ]
    }
   ],
   "source": [
    "print(type(a))\n",
    "print(type(b))\n",
    "print(type(c))"
   ]
  },
  {
   "cell_type": "code",
   "execution_count": 11,
   "id": "67377250",
   "metadata": {},
   "outputs": [
    {
     "name": "stdout",
     "output_type": "stream",
     "text": [
      "Enter your name: Umesh\n",
      "Enter your name: Siyak\n",
      "You have entered first name as: Umesh and second name as :Siyak\n"
     ]
    }
   ],
   "source": [
    "# Using f format with input function\n",
    "first_name= input(\"Enter your name: \")\n",
    "sec_name=input(\"Enter your name: \")\n",
    "print(f\"You have entered first name as: {first_name} and second name as :{sec_name}\")\n",
    "#print(\"you have entered:{}\".format(sec_name))"
   ]
  },
  {
   "cell_type": "code",
   "execution_count": 12,
   "id": "98718bed",
   "metadata": {},
   "outputs": [
    {
     "name": "stdout",
     "output_type": "stream",
     "text": [
      "Enter your number10\n",
      "Enter your number12\n",
      "sum of firtNumer:10.0 and sec number :12.0 is :22.0\n"
     ]
    }
   ],
   "source": [
    "fnm=float(input(\"Enter your number\"))\n",
    "snm=float(input(\"Enter your number\"))\n",
    "print(f\"sum of firtNumer:{fnm} and sec number :{snm} is :{fnm+snm}\")"
   ]
  },
  {
   "cell_type": "code",
   "execution_count": 13,
   "id": "d077f816",
   "metadata": {},
   "outputs": [
    {
     "ename": "ValueError",
     "evalue": "invalid literal for int() with base 10: 'Umesh'",
     "output_type": "error",
     "traceback": [
      "\u001b[1;31m---------------------------------------------------------------------------\u001b[0m",
      "\u001b[1;31mValueError\u001b[0m                                Traceback (most recent call last)",
      "\u001b[1;32m~\\AppData\\Local\\Temp\\ipykernel_9912\\1635176728.py\u001b[0m in \u001b[0;36m<module>\u001b[1;34m\u001b[0m\n\u001b[0;32m      1\u001b[0m \u001b[0ma_a\u001b[0m\u001b[1;33m=\u001b[0m \u001b[1;34m\"Umesh\"\u001b[0m\u001b[1;33m\u001b[0m\u001b[1;33m\u001b[0m\u001b[0m\n\u001b[1;32m----> 2\u001b[1;33m \u001b[0mprint\u001b[0m\u001b[1;33m(\u001b[0m\u001b[0mtype\u001b[0m\u001b[1;33m(\u001b[0m\u001b[0mint\u001b[0m\u001b[1;33m(\u001b[0m\u001b[0ma_a\u001b[0m\u001b[1;33m)\u001b[0m\u001b[1;33m)\u001b[0m\u001b[1;33m)\u001b[0m\u001b[1;33m\u001b[0m\u001b[1;33m\u001b[0m\u001b[0m\n\u001b[0m",
      "\u001b[1;31mValueError\u001b[0m: invalid literal for int() with base 10: 'Umesh'"
     ]
    }
   ],
   "source": [
    "a_a= \"Umesh\"\n",
    "print(type(int(a_a)))"
   ]
  },
  {
   "cell_type": "code",
   "execution_count": 14,
   "id": "e8b11831",
   "metadata": {},
   "outputs": [
    {
     "name": "stdout",
     "output_type": "stream",
     "text": [
      "enter your nameUmesh\n",
      "Enter your placeSikar\n",
      "Enter your age25\n",
      "enter your weight80\n",
      "Enter your YOB1995\n",
      "\n",
      "My Name is Umesh\n",
      "I live in Sikar\n",
      "My age is 25\n",
      "My weight is 80\n",
      "I born in 1995\n"
     ]
    }
   ],
   "source": [
    "# how to write output in multiline\n",
    "# define the variables\n",
    "name =input('enter your name')\n",
    "place=input(\"Enter your place\")\n",
    "age=input(\"Enter your age\")\n",
    "wgt=input(\"enter your weight\")\n",
    "birth =input(\"Enter your YOB\")\n",
    "print(f\"\"\"\n",
    "My Name is {name}\n",
    "I live in {place}\n",
    "My age is {age}\n",
    "My weight is {wgt}\n",
    "I born in {birth}\"\"\")"
   ]
  },
  {
   "cell_type": "code",
   "execution_count": 15,
   "id": "c12324f8",
   "metadata": {},
   "outputs": [
    {
     "data": {
      "text/plain": [
       "2867969616464"
      ]
     },
     "execution_count": 15,
     "metadata": {},
     "output_type": "execute_result"
    }
   ],
   "source": [
    "# Memory Block in Python\n",
    "# it will assigne the same id to same numbers doesnt matter if variables are different  \n",
    "a=11\n",
    "b=10\n",
    "c=10\n",
    "id(b)"
   ]
  },
  {
   "cell_type": "code",
   "execution_count": 16,
   "id": "d6ac3022",
   "metadata": {},
   "outputs": [
    {
     "data": {
      "text/plain": [
       "2867969616464"
      ]
     },
     "execution_count": 16,
     "metadata": {},
     "output_type": "execute_result"
    }
   ],
   "source": [
    "id(c)"
   ]
  },
  {
   "cell_type": "code",
   "execution_count": 17,
   "id": "97d7f115",
   "metadata": {},
   "outputs": [
    {
     "data": {
      "text/plain": [
       "2868053096432"
      ]
     },
     "execution_count": 17,
     "metadata": {},
     "output_type": "execute_result"
    }
   ],
   "source": [
    "a='Khush'\n",
    "b=17\n",
    "id(a)"
   ]
  },
  {
   "cell_type": "code",
   "execution_count": 18,
   "id": "6897350c",
   "metadata": {},
   "outputs": [
    {
     "data": {
      "text/plain": [
       "True"
      ]
     },
     "execution_count": 18,
     "metadata": {},
     "output_type": "execute_result"
    }
   ],
   "source": [
    "x=10\n",
    "bool(x)"
   ]
  },
  {
   "cell_type": "code",
   "execution_count": null,
   "id": "c8ab8ff7",
   "metadata": {},
   "outputs": [],
   "source": [
    "# How to check how much space a variale is taking in memory -check yourself"
   ]
  },
  {
   "cell_type": "code",
   "execution_count": 19,
   "id": "95cda9ff",
   "metadata": {},
   "outputs": [
    {
     "name": "stdout",
     "output_type": "stream",
     "text": [
      "False\n"
     ]
    }
   ],
   "source": [
    "#if else with logical funtions \n",
    "Start= True\n",
    "print(not Start) # not funtion here will print the false result of opposit result of condition"
   ]
  },
  {
   "cell_type": "code",
   "execution_count": 20,
   "id": "93202825",
   "metadata": {},
   "outputs": [
    {
     "name": "stdout",
     "output_type": "stream",
     "text": [
      "its raining lets wfh\n"
     ]
    }
   ],
   "source": [
    "rain =True\n",
    "\n",
    "if rain:\n",
    "    print(\"its raining lets wfh\")\n",
    "else:\n",
    "    print(\"lets go to office\")"
   ]
  },
  {
   "cell_type": "code",
   "execution_count": 21,
   "id": "a4e246d0",
   "metadata": {},
   "outputs": [
    {
     "name": "stdout",
     "output_type": "stream",
     "text": [
      "Hey friends, is class started0\n",
      "class not start\n",
      "lets revise\n"
     ]
    }
   ],
   "source": [
    "class_start =int(input(\"Hey friends, is class started\"))\n",
    "\n",
    "if not class_start == 1:\n",
    "    print(\"class not start\")\n",
    "    print(\"lets revise\")\n",
    "else:\n",
    "    print(\"class start\")\n",
    "    print(\"lets learn\")"
   ]
  },
  {
   "cell_type": "code",
   "execution_count": 22,
   "id": "a82d0f61",
   "metadata": {},
   "outputs": [
    {
     "name": "stdout",
     "output_type": "stream",
     "text": [
      "not eligible\n"
     ]
    }
   ],
   "source": [
    "attend =60\n",
    "assin =75\n",
    "sport_per =True\n",
    "\n",
    "if attend >= 75 and assin >=75:\n",
    "    if sport_per:\n",
    "        print(\"eligible\")\n",
    "    else:\n",
    "        print(\"able to appear but no extra marks\")\n",
    "else:\n",
    "    print(\"not eligible\")\n"
   ]
  },
  {
   "cell_type": "code",
   "execution_count": 23,
   "id": "328a31bf",
   "metadata": {},
   "outputs": [
    {
     "name": "stdout",
     "output_type": "stream",
     "text": [
      "its not divisable and odd number\n"
     ]
    }
   ],
   "source": [
    "#mathematical operator\n",
    "\n",
    "A= 23\n",
    "B=3\n",
    "# check if A is divisable or evan number or not\n",
    "\n",
    "if A%B ==0:\n",
    "    print(f\"A:{A} is divisable with B:{B}\")\n",
    "else:\n",
    "    print(\"its not divisable and odd number\")"
   ]
  },
  {
   "cell_type": "code",
   "execution_count": 24,
   "id": "bd211845",
   "metadata": {},
   "outputs": [],
   "source": [
    "#String Manipulation/Indexing"
   ]
  },
  {
   "cell_type": "code",
   "execution_count": 25,
   "id": "2cc14e7b",
   "metadata": {},
   "outputs": [],
   "source": [
    "sen=\"Now Playing - 8th Oct live Class Python String methods\""
   ]
  },
  {
   "cell_type": "code",
   "execution_count": 26,
   "id": "6be912d8",
   "metadata": {},
   "outputs": [],
   "source": [
    "name ='umesh'"
   ]
  },
  {
   "cell_type": "code",
   "execution_count": 27,
   "id": "519c19c5",
   "metadata": {},
   "outputs": [
    {
     "data": {
      "text/plain": [
       "'u'"
      ]
     },
     "execution_count": 27,
     "metadata": {},
     "output_type": "execute_result"
    }
   ],
   "source": [
    "name[0]"
   ]
  },
  {
   "cell_type": "code",
   "execution_count": 28,
   "id": "0fc3069d",
   "metadata": {},
   "outputs": [],
   "source": [
    "# indexing will always start from 0th Index.\n",
    "# the first index is always included in count and last index is exluded \n"
   ]
  },
  {
   "cell_type": "code",
   "execution_count": 29,
   "id": "e6523e8a",
   "metadata": {},
   "outputs": [
    {
     "data": {
      "text/plain": [
       "'mesh'"
      ]
     },
     "execution_count": 29,
     "metadata": {},
     "output_type": "execute_result"
    }
   ],
   "source": [
    "#when we use : after index it means it will print all from that index till end or\n",
    "name[1:]"
   ]
  },
  {
   "cell_type": "code",
   "execution_count": 30,
   "id": "f16bd383",
   "metadata": {},
   "outputs": [
    {
     "data": {
      "text/plain": [
       "'u'"
      ]
     },
     "execution_count": 30,
     "metadata": {},
     "output_type": "execute_result"
    }
   ],
   "source": [
    "#when we use : before index it means it will print all till that index\n",
    "name[:1]"
   ]
  },
  {
   "cell_type": "code",
   "execution_count": 31,
   "id": "f602186d",
   "metadata": {},
   "outputs": [
    {
     "data": {
      "text/plain": [
       "'me'"
      ]
     },
     "execution_count": 31,
     "metadata": {},
     "output_type": "execute_result"
    }
   ],
   "source": [
    "# we can use index to take substring of a string\n",
    "# this will include the first index but not the last the 3rd index is omitted\n",
    "# when we use [: :] this means we are taking steps in the strgin \n",
    "# here the first : means start second : means end and after last is step\n",
    "name[1:3]"
   ]
  },
  {
   "cell_type": "code",
   "execution_count": 32,
   "id": "d9a7e9d0",
   "metadata": {},
   "outputs": [],
   "source": [
    "date=\"08/10/2022\""
   ]
  },
  {
   "cell_type": "code",
   "execution_count": 33,
   "id": "6c7f0172",
   "metadata": {},
   "outputs": [
    {
     "name": "stdout",
     "output_type": "stream",
     "text": [
      "08\n"
     ]
    }
   ],
   "source": [
    "print(date[:2])"
   ]
  },
  {
   "cell_type": "code",
   "execution_count": 35,
   "id": "6ef56450",
   "metadata": {},
   "outputs": [
    {
     "name": "stdout",
     "output_type": "stream",
     "text": [
      "10\n"
     ]
    }
   ],
   "source": [
    "print(date[3:5])"
   ]
  },
  {
   "cell_type": "code",
   "execution_count": 38,
   "id": "0bb2ee8a",
   "metadata": {},
   "outputs": [
    {
     "name": "stdout",
     "output_type": "stream",
     "text": [
      "day is 08 an months is 10 and year is 022\n"
     ]
    }
   ],
   "source": [
    "#use of slicing/indexing in print statemet\n",
    "date=\"08/10/2022\"\n",
    "day=date[:2]\n",
    "month =date[3:5]\n",
    "year =date[6:]\n",
    "print(f\"day is {day} an months is {month} and year is {year}\")"
   ]
  },
  {
   "cell_type": "code",
   "execution_count": 45,
   "id": "c836e188",
   "metadata": {},
   "outputs": [
    {
     "name": "stdout",
     "output_type": "stream",
     "text": [
      "Entry date here10/01/2022\n",
      "day is 10 an months is 01 and year is 2022\n"
     ]
    }
   ],
   "source": [
    "# we can make this user input funtion also \n",
    "date=input(\"Entry date here\")\n",
    "day=date[:2]\n",
    "month =date[3:5]\n",
    "year =date[6:]\n",
    "print(f\"day is {day} an months is {month} and year is {year}\")"
   ]
  },
  {
   "cell_type": "code",
   "execution_count": 54,
   "id": "c60aa738",
   "metadata": {},
   "outputs": [
    {
     "name": "stdout",
     "output_type": "stream",
     "text": [
      "Entry date here 1995\n",
      "27\n"
     ]
    }
   ],
   "source": [
    "# calcuate year/age\n",
    "year_of_birth=int(input(\"Entry date here \"))\n",
    "age =2022-year_of_birth\n",
    "print(age)"
   ]
  },
  {
   "cell_type": "code",
   "execution_count": 55,
   "id": "51f0869b",
   "metadata": {},
   "outputs": [
    {
     "data": {
      "text/plain": [
       "16"
      ]
     },
     "execution_count": 55,
     "metadata": {},
     "output_type": "execute_result"
    }
   ],
   "source": [
    "#Palindrome sequence or revers slicing\n",
    "# when we use [: :] this means we are taking steps in the strgin \n",
    "# here the first : means start second : means end and after last is step\n",
    "sent ='My name is Umesh'\n",
    "len(sent)\n"
   ]
  },
  {
   "cell_type": "code",
   "execution_count": 59,
   "id": "a3110e24",
   "metadata": {},
   "outputs": [
    {
     "name": "stdout",
     "output_type": "stream",
     "text": [
      "My name is Umesh\n",
      "ynm sUe\n"
     ]
    }
   ],
   "source": [
    "sent ='My name is Umesh'\n",
    "print(sent)\n",
    "print(sent[1:14:2])"
   ]
  },
  {
   "cell_type": "code",
   "execution_count": 60,
   "id": "3bd33a38",
   "metadata": {},
   "outputs": [
    {
     "data": {
      "text/plain": [
       "'hsemU si eman yM'"
      ]
     },
     "execution_count": 60,
     "metadata": {},
     "output_type": "execute_result"
    }
   ],
   "source": [
    "sent[::-1]"
   ]
  },
  {
   "cell_type": "code",
   "execution_count": 61,
   "id": "ebe84950",
   "metadata": {},
   "outputs": [
    {
     "name": "stdout",
     "output_type": "stream",
     "text": [
      "mom\n"
     ]
    }
   ],
   "source": [
    "# lets test some words hows are same from in all order\n",
    "# bob\n",
    "#madam\n",
    "#mom\n",
    "#pop\n",
    "#malylam\n",
    "# these type of words are called palindrome words\n",
    "\n",
    "data='mom'\n",
    "print(data[::-1])"
   ]
  },
  {
   "cell_type": "code",
   "execution_count": 66,
   "id": "c9d1dee3",
   "metadata": {},
   "outputs": [
    {
     "name": "stdout",
     "output_type": "stream",
     "text": [
      "enter your stringmom\n",
      "input srting is palindrome where data: mom and revers: mom\n"
     ]
    }
   ],
   "source": [
    "data =input(\"enter your string \")\n",
    "rev =data[::-1]\n",
    "if data == rev:\n",
    "    print(f\"input srting is palindrome where data: {data} and revers: {rev}\")\n",
    "else:\n",
    "    print(f\"input srting is not palindrome where data: {data} and revers: {rev}\")"
   ]
  },
  {
   "cell_type": "code",
   "execution_count": 69,
   "id": "532e2fb6",
   "metadata": {},
   "outputs": [
    {
     "name": "stdout",
     "output_type": "stream",
     "text": [
      "enter your string umesh\n",
      "input srting is not palindrome where data: umesh and revers: hsemu\n"
     ]
    }
   ],
   "source": [
    "data =input(\"enter your string \")\n",
    "rev =data[::-1]\n",
    "if data == rev:\n",
    "    print(f\"input srting is palindrome where data: {data} and revers: {rev}\")\n",
    "else:\n",
    "    print(f\"input srting is not palindrome where data: {data} and revers: {rev}\")"
   ]
  },
  {
   "cell_type": "code",
   "execution_count": 70,
   "id": "2ac3f601",
   "metadata": {},
   "outputs": [
    {
     "ename": "TypeError",
     "evalue": "'str' object does not support item assignment",
     "output_type": "error",
     "traceback": [
      "\u001b[1;31m---------------------------------------------------------------------------\u001b[0m",
      "\u001b[1;31mTypeError\u001b[0m                                 Traceback (most recent call last)",
      "\u001b[1;32m~\\AppData\\Local\\Temp\\ipykernel_9912\\822791469.py\u001b[0m in \u001b[0;36m<module>\u001b[1;34m\u001b[0m\n\u001b[0;32m      2\u001b[0m \u001b[1;31m# if we can chagne the string index with updated value then its mutable/mutability else is not mutable/non-mutability\u001b[0m\u001b[1;33m\u001b[0m\u001b[1;33m\u001b[0m\u001b[0m\n\u001b[0;32m      3\u001b[0m \u001b[0mname\u001b[0m\u001b[1;33m=\u001b[0m\u001b[1;34m\"umesh\"\u001b[0m\u001b[1;33m\u001b[0m\u001b[1;33m\u001b[0m\u001b[0m\n\u001b[1;32m----> 4\u001b[1;33m \u001b[0mname\u001b[0m\u001b[1;33m[\u001b[0m\u001b[1;36m0\u001b[0m\u001b[1;33m]\u001b[0m\u001b[1;33m=\u001b[0m\u001b[1;34m'r'\u001b[0m\u001b[1;33m\u001b[0m\u001b[1;33m\u001b[0m\u001b[0m\n\u001b[0m",
      "\u001b[1;31mTypeError\u001b[0m: 'str' object does not support item assignment"
     ]
    }
   ],
   "source": [
    "#Mutability and non-mutability/immutable\n",
    "# if we can chagne the string index with updated value then its mutable/mutability else is not mutable/non-mutability/immutable\n",
    "name=\"umesh\"\n",
    "name[0]='r'"
   ]
  },
  {
   "cell_type": "code",
   "execution_count": 71,
   "id": "5ad113a8",
   "metadata": {},
   "outputs": [
    {
     "data": {
      "text/plain": [
       "'Mother'"
      ]
     },
     "execution_count": 71,
     "metadata": {},
     "output_type": "execute_result"
    }
   ],
   "source": [
    "# what if we need to change the value of a string's index \n",
    "name ='Fother' # if this is mistyped and values has been assigned to the variable then how to change it \n",
    "# concate is one option using indexing\n",
    "# as we need to change the value of 0th index we take all the remaining part of string \n",
    "#name[1:]\n",
    "#now concate it and assigne the value back to name variable \n",
    "name =\"M\"+name[1:]\n",
    "# same way we change the string property using this mathod \n",
    "#but strings are immutable\n",
    "name"
   ]
  },
  {
   "cell_type": "code",
   "execution_count": 76,
   "id": "f13de798",
   "metadata": {},
   "outputs": [],
   "source": [
    "# other way to change the value of string is string funtions replace()\n",
    "name ='Fother'\n",
    "name =name.replace(\"F\",\"M\")"
   ]
  },
  {
   "cell_type": "code",
   "execution_count": 77,
   "id": "ac7eaaae",
   "metadata": {},
   "outputs": [
    {
     "data": {
      "text/plain": [
       "'Mother'"
      ]
     },
     "execution_count": 77,
     "metadata": {},
     "output_type": "execute_result"
    }
   ],
   "source": [
    "name"
   ]
  },
  {
   "cell_type": "code",
   "execution_count": null,
   "id": "c933fca4",
   "metadata": {},
   "outputs": [],
   "source": [
    "# to check all the funtions available for string manipulation type the string.and press Tab buttion\n",
    "#you will see all the available funtions "
   ]
  },
  {
   "cell_type": "code",
   "execution_count": 78,
   "id": "bc38a4e3",
   "metadata": {},
   "outputs": [],
   "source": [
    "name=\"   Umesh  \""
   ]
  },
  {
   "cell_type": "code",
   "execution_count": 79,
   "id": "767071af",
   "metadata": {},
   "outputs": [
    {
     "data": {
      "text/plain": [
       "10"
      ]
     },
     "execution_count": 79,
     "metadata": {},
     "output_type": "execute_result"
    }
   ],
   "source": [
    "len(name)"
   ]
  },
  {
   "cell_type": "code",
   "execution_count": 81,
   "id": "907a1f42",
   "metadata": {},
   "outputs": [
    {
     "data": {
      "text/plain": [
       "5"
      ]
     },
     "execution_count": 81,
     "metadata": {},
     "output_type": "execute_result"
    }
   ],
   "source": [
    "len(name.strip())\n",
    "# Strip is used to remove spaces from front and end\n",
    "#rstrip remove the right/ending space and lstrip removes the space from left of starting"
   ]
  },
  {
   "cell_type": "code",
   "execution_count": 82,
   "id": "49ed7373",
   "metadata": {},
   "outputs": [
    {
     "data": {
      "text/plain": [
       "7"
      ]
     },
     "execution_count": 82,
     "metadata": {},
     "output_type": "execute_result"
    }
   ],
   "source": [
    "len(name.lstrip())"
   ]
  },
  {
   "cell_type": "code",
   "execution_count": 83,
   "id": "44cf71de",
   "metadata": {},
   "outputs": [
    {
     "data": {
      "text/plain": [
       "8"
      ]
     },
     "execution_count": 83,
     "metadata": {},
     "output_type": "execute_result"
    }
   ],
   "source": [
    "len(name.rstrip())"
   ]
  },
  {
   "cell_type": "code",
   "execution_count": 84,
   "id": "10776197",
   "metadata": {},
   "outputs": [
    {
     "data": {
      "text/plain": [
       "'   Umesh  '"
      ]
     },
     "execution_count": 84,
     "metadata": {},
     "output_type": "execute_result"
    }
   ],
   "source": [
    "# also we can use replace funtion to repalce space with nothing \n",
    "name"
   ]
  },
  {
   "cell_type": "code",
   "execution_count": 85,
   "id": "452957ef",
   "metadata": {},
   "outputs": [
    {
     "data": {
      "text/plain": [
       "5"
      ]
     },
     "execution_count": 85,
     "metadata": {},
     "output_type": "execute_result"
    }
   ],
   "source": [
    "name=name.replace(\" \",\"\")\n",
    "len(name)"
   ]
  },
  {
   "cell_type": "code",
   "execution_count": 86,
   "id": "b6f4c2ce",
   "metadata": {},
   "outputs": [
    {
     "data": {
      "text/plain": [
       "2"
      ]
     },
     "execution_count": 86,
     "metadata": {},
     "output_type": "execute_result"
    }
   ],
   "source": [
    "# how to count of occurance of a character in string\n",
    "# we use count()\n",
    "name=\"Shree Ram\"\n",
    "name.count(\"e\")"
   ]
  },
  {
   "cell_type": "code",
   "execution_count": 89,
   "id": "6a59574b",
   "metadata": {},
   "outputs": [
    {
     "name": "stdout",
     "output_type": "stream",
     "text": [
      "Shree\n",
      "Ram\n"
     ]
    }
   ],
   "source": [
    "# how to spli string we will use split funtion , split funtion will always return the result in list format\n",
    "name=\"Shree Ram\"\n",
    "fst_nm, lst_nm =name.split(\" \")\n",
    "print(fst_nm)\n",
    "print(lst_nm)"
   ]
  },
  {
   "cell_type": "code",
   "execution_count": 90,
   "id": "c565e025",
   "metadata": {},
   "outputs": [
    {
     "data": {
      "text/plain": [
       "'Shree'"
      ]
     },
     "execution_count": 90,
     "metadata": {},
     "output_type": "execute_result"
    }
   ],
   "source": [
    "fst_nm"
   ]
  },
  {
   "cell_type": "code",
   "execution_count": 91,
   "id": "49cf4998",
   "metadata": {},
   "outputs": [
    {
     "data": {
      "text/plain": [
       "'##umesh###'"
      ]
     },
     "execution_count": 91,
     "metadata": {},
     "output_type": "execute_result"
    }
   ],
   "source": [
    "name=\"umesh\"\n",
    "name.center(10,\"#\")"
   ]
  },
  {
   "cell_type": "code",
   "execution_count": 93,
   "id": "e8ddc393",
   "metadata": {},
   "outputs": [
    {
     "name": "stdout",
     "output_type": "stream",
     "text": [
      "enter your nameumesh\n",
      "user input: umesh\n",
      "user has given wrong input: umesh we need to correct it\n",
      "correct input is: Umesh\n"
     ]
    }
   ],
   "source": [
    "# for auto correcting we use string funtions \n",
    "name =input(\"enter your name\")\n",
    "\n",
    "print(f\"user input: {name}\")\n",
    "\n",
    "if name.istitle():\n",
    "    print(f\"user has given correct input: {name}\")\n",
    "else:\n",
    "    print(f\"user has given wrong input: {name} we need to correct it\")\n",
    "    name=name.title()\n",
    "    print(f\"correct input is: {name}\")"
   ]
  },
  {
   "cell_type": "code",
   "execution_count": 94,
   "id": "75f16daf",
   "metadata": {},
   "outputs": [
    {
     "name": "stdout",
     "output_type": "stream",
     "text": [
      "enter your nameUmesh Siyak\n",
      "user input: Umesh Siyak\n",
      "user has given correct input: Umesh Siyak\n"
     ]
    }
   ],
   "source": [
    "# for auto correcting we use string funtions \n",
    "name =input(\"enter your name\")\n",
    "\n",
    "print(f\"user input: {name}\")\n",
    "\n",
    "if name.istitle():\n",
    "    print(f\"user has given correct input: {name}\")\n",
    "else:\n",
    "    print(f\"user has given wrong input: {name} we need to correct it\")\n",
    "    name=name.title()\n",
    "    print(f\"correct input is: {name}\")"
   ]
  },
  {
   "cell_type": "code",
   "execution_count": null,
   "id": "f4724130",
   "metadata": {},
   "outputs": [],
   "source": []
  }
 ],
 "metadata": {
  "kernelspec": {
   "display_name": "Python 3 (ipykernel)",
   "language": "python",
   "name": "python3"
  },
  "language_info": {
   "codemirror_mode": {
    "name": "ipython",
    "version": 3
   },
   "file_extension": ".py",
   "mimetype": "text/x-python",
   "name": "python",
   "nbconvert_exporter": "python",
   "pygments_lexer": "ipython3",
   "version": "3.9.13"
  }
 },
 "nbformat": 4,
 "nbformat_minor": 5
}
