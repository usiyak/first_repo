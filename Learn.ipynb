{
 "cells": [
  {
   "cell_type": "code",
   "execution_count": 1,
   "id": "a147cb05",
   "metadata": {},
   "outputs": [
    {
     "name": "stdout",
     "output_type": "stream",
     "text": [
      "This is the language of Java Script\n"
     ]
    }
   ],
   "source": [
    "language ='Java Script'\n",
    "print(f\"This is the language of {language}\") # used currently "
   ]
  },
  {
   "cell_type": "code",
   "execution_count": 2,
   "id": "5a100aa8",
   "metadata": {},
   "outputs": [
    {
     "ename": "AttributeError",
     "evalue": "'str' object has no attribute 'formate'",
     "output_type": "error",
     "traceback": [
      "\u001b[1;31m---------------------------------------------------------------------------\u001b[0m",
      "\u001b[1;31mAttributeError\u001b[0m                            Traceback (most recent call last)",
      "\u001b[1;32m~\\AppData\\Local\\Temp\\ipykernel_5920\\1275113153.py\u001b[0m in \u001b[0;36m<module>\u001b[1;34m\u001b[0m\n\u001b[0;32m      1\u001b[0m \u001b[0mlanguage\u001b[0m \u001b[1;33m=\u001b[0m\u001b[1;34m'Java Script'\u001b[0m\u001b[1;33m\u001b[0m\u001b[1;33m\u001b[0m\u001b[0m\n\u001b[1;32m----> 2\u001b[1;33m \u001b[0mprint\u001b[0m\u001b[1;33m(\u001b[0m\u001b[1;34m\"This is the language of {}\"\u001b[0m\u001b[1;33m.\u001b[0m\u001b[0mformate\u001b[0m\u001b[1;33m(\u001b[0m\u001b[0mlanguage\u001b[0m\u001b[1;33m)\u001b[0m\u001b[1;33m)\u001b[0m \u001b[1;31m# used currently\u001b[0m\u001b[1;33m\u001b[0m\u001b[1;33m\u001b[0m\u001b[0m\n\u001b[0m",
      "\u001b[1;31mAttributeError\u001b[0m: 'str' object has no attribute 'formate'"
     ]
    }
   ],
   "source": [
    "language ='Java Script'\n",
    "print(\"This is the language of {}\".formate(language)) # used currently "
   ]
  },
  {
   "cell_type": "code",
   "execution_count": null,
   "id": "74037d91",
   "metadata": {},
   "outputs": [],
   "source": [
    "language ='Java Script'\n",
    "print(\"This is the language of {}\".format(language)) # Old ways to fill the blanks using python "
   ]
  },
  {
   "cell_type": "code",
   "execution_count": null,
   "id": "d0a5fff8",
   "metadata": {},
   "outputs": [],
   "source": [
    "#fillig multiple blanks using format option\n",
    "num= 'first'\n",
    "language ='python'\n",
    "print(\"This is the {} class of {}\".format(num,language))"
   ]
  },
  {
   "cell_type": "code",
   "execution_count": null,
   "id": "de5b8bf5",
   "metadata": {},
   "outputs": [],
   "source": [
    "# we cam also use + sign to fill the blanks but not suggested and not professionl \n",
    "num= 'first'\n",
    "language ='python'\n",
    "print(\"This is the \"+num+\" class of \"+language+\"\")"
   ]
  },
  {
   "cell_type": "code",
   "execution_count": null,
   "id": "01da4814",
   "metadata": {},
   "outputs": [],
   "source": [
    "a=int(input())\n",
    "b=int(input())\n",
    "c=a+b\n",
    "print(f\"the result sum of a:{a} and b:{b} is c:{c}\")"
   ]
  },
  {
   "cell_type": "code",
   "execution_count": null,
   "id": "64009b7e",
   "metadata": {},
   "outputs": [],
   "source": [
    "# small program with Bool data and if statement \n",
    "class_start_at =1500\n",
    "you_came_at =1600\n",
    "if you_came_at <class_start_at:\n",
    "    print('You are on time')\n",
    "else:\n",
    "    print(\"you are late\")\n",
    "you_came_at <class_start_at"
   ]
  },
  {
   "cell_type": "code",
   "execution_count": null,
   "id": "195368f4",
   "metadata": {},
   "outputs": [],
   "source": [
    "# User input funtion and Type conversion in Python"
   ]
  },
  {
   "cell_type": "code",
   "execution_count": null,
   "id": "9bf0b7a7",
   "metadata": {},
   "outputs": [],
   "source": [
    "# Multi variable assignement\n",
    "a,b,c=1,'one',1.0"
   ]
  },
  {
   "cell_type": "code",
   "execution_count": null,
   "id": "1d16d835",
   "metadata": {},
   "outputs": [],
   "source": [
    "print(type(a))\n",
    "print(type(b))\n",
    "print(type(c))"
   ]
  },
  {
   "cell_type": "code",
   "execution_count": null,
   "id": "67377250",
   "metadata": {},
   "outputs": [],
   "source": [
    "# Using f format with input function\n",
    "first_name= input(\"Enter your name: \")\n",
    "sec_name=input(\"Enter your name: \")\n",
    "print(f\"You have entered first name as: {first_name} and second name as :{sec_name}\")\n",
    "#print(\"you have entered:{}\".format(sec_name))"
   ]
  },
  {
   "cell_type": "code",
   "execution_count": null,
   "id": "98718bed",
   "metadata": {},
   "outputs": [],
   "source": [
    "fnm=float(input(\"Enter your number\"))\n",
    "snm=float(input(\"Enter your number\"))\n",
    "print(f\"sum of firtNumer:{fnm} and sec number :{snm} is :{fnm+snm}\")"
   ]
  },
  {
   "cell_type": "code",
   "execution_count": null,
   "id": "d077f816",
   "metadata": {},
   "outputs": [],
   "source": [
    "a_a= \"Umesh\"\n",
    "print(type(int(a_a)))"
   ]
  },
  {
   "cell_type": "code",
   "execution_count": null,
   "id": "e8b11831",
   "metadata": {},
   "outputs": [],
   "source": [
    "# how to write output in multiline\n",
    "# define the variables\n",
    "name =input('enter your name')\n",
    "place=input(\"Enter your place\")\n",
    "age=input(\"Enter your age\")\n",
    "wgt=input(\"enter your weight\")\n",
    "birth =input(\"Enter your YOB\")\n",
    "print(f\"\"\"\n",
    "My Name is {name}\n",
    "I live in {place}\n",
    "My age is {age}\n",
    "My weight is {wgt}\n",
    "I born in {birth}\"\"\")"
   ]
  },
  {
   "cell_type": "code",
   "execution_count": null,
   "id": "c12324f8",
   "metadata": {},
   "outputs": [],
   "source": [
    "# Memory Block in Python\n",
    "# it will assigne the same id to same numbers doesnt matter if variables are different  \n",
    "a=11\n",
    "b=10\n",
    "c=10\n",
    "id(b)"
   ]
  },
  {
   "cell_type": "code",
   "execution_count": null,
   "id": "d6ac3022",
   "metadata": {},
   "outputs": [],
   "source": [
    "id(c)"
   ]
  },
  {
   "cell_type": "code",
   "execution_count": null,
   "id": "97d7f115",
   "metadata": {},
   "outputs": [],
   "source": [
    "a='Khush'\n",
    "b=17\n",
    "id(a)"
   ]
  },
  {
   "cell_type": "code",
   "execution_count": null,
   "id": "6897350c",
   "metadata": {},
   "outputs": [],
   "source": [
    "x=10\n",
    "bool(x)"
   ]
  },
  {
   "cell_type": "code",
   "execution_count": null,
   "id": "c8ab8ff7",
   "metadata": {},
   "outputs": [],
   "source": [
    "# How to check how much space a variale is taking in memory -check yourself"
   ]
  },
  {
   "cell_type": "code",
   "execution_count": null,
   "id": "95cda9ff",
   "metadata": {},
   "outputs": [],
   "source": [
    "#if else with logical funtions \n",
    "Start= True\n",
    "print(not Start) # not funtion here will print the false result of opposit result of condition"
   ]
  },
  {
   "cell_type": "code",
   "execution_count": null,
   "id": "93202825",
   "metadata": {},
   "outputs": [],
   "source": [
    "rain =True\n",
    "\n",
    "if rain:\n",
    "    print(\"its raining lets wfh\")\n",
    "else:\n",
    "    print(\"lets go to office\")"
   ]
  },
  {
   "cell_type": "code",
   "execution_count": null,
   "id": "a4e246d0",
   "metadata": {},
   "outputs": [],
   "source": [
    "class_start =int(input(\"Hey friends, is class started\"))\n",
    "\n",
    "if not class_start == 1:\n",
    "    print(\"class not start\")\n",
    "    print(\"lets revise\")\n",
    "else:\n",
    "    print(\"class start\")\n",
    "    print(\"lets learn\")"
   ]
  },
  {
   "cell_type": "code",
   "execution_count": null,
   "id": "a82d0f61",
   "metadata": {},
   "outputs": [],
   "source": [
    "attend =60\n",
    "assin =75\n",
    "sport_per =True\n",
    "\n",
    "if attend >= 75 and assin >=75:\n",
    "    if sport_per:\n",
    "        print(\"eligible\")\n",
    "    else:\n",
    "        print(\"able to appear but no extra marks\")\n",
    "else:\n",
    "    print(\"not eligible\")\n"
   ]
  },
  {
   "cell_type": "code",
   "execution_count": null,
   "id": "328a31bf",
   "metadata": {},
   "outputs": [],
   "source": [
    "#mathematical operator\n",
    "\n",
    "A= 23\n",
    "B=3\n",
    "# check if A is divisable or evan number or not\n",
    "\n",
    "if A%B ==0:\n",
    "    print(f\"A:{A} is divisable with B:{B}\")\n",
    "else:\n",
    "    print(\"its not divisable and odd number\")"
   ]
  },
  {
   "cell_type": "code",
   "execution_count": null,
   "id": "bd211845",
   "metadata": {},
   "outputs": [],
   "source": [
    "#String Manipulation/Indexing"
   ]
  },
  {
   "cell_type": "code",
   "execution_count": null,
   "id": "2cc14e7b",
   "metadata": {},
   "outputs": [],
   "source": [
    "sen=\"Now Playing - 8th Oct live Class Python String methods\""
   ]
  },
  {
   "cell_type": "code",
   "execution_count": null,
   "id": "6be912d8",
   "metadata": {},
   "outputs": [],
   "source": [
    "name ='umesh'"
   ]
  },
  {
   "cell_type": "code",
   "execution_count": null,
   "id": "519c19c5",
   "metadata": {},
   "outputs": [],
   "source": [
    "name[0]"
   ]
  },
  {
   "cell_type": "code",
   "execution_count": null,
   "id": "0fc3069d",
   "metadata": {},
   "outputs": [],
   "source": [
    "# indexing will always start from 0th Index.\n",
    "# the first index is always included in count and last index is exluded \n"
   ]
  },
  {
   "cell_type": "code",
   "execution_count": null,
   "id": "e6523e8a",
   "metadata": {},
   "outputs": [],
   "source": [
    "#when we use : after index it means it will print all from that index till end or\n",
    "name[1:]"
   ]
  },
  {
   "cell_type": "code",
   "execution_count": null,
   "id": "f16bd383",
   "metadata": {},
   "outputs": [],
   "source": [
    "#when we use : before index it means it will print all till that index\n",
    "name[:1]"
   ]
  },
  {
   "cell_type": "code",
   "execution_count": null,
   "id": "f602186d",
   "metadata": {},
   "outputs": [],
   "source": [
    "# we can use index to take substring of a string\n",
    "# this will include the first index but not the last the 3rd index is omitted\n",
    "# when we use [: :] this means we are taking steps in the strgin \n",
    "# here the first : means start second : means end and after last is step\n",
    "name[1:3]"
   ]
  },
  {
   "cell_type": "code",
   "execution_count": null,
   "id": "d9a7e9d0",
   "metadata": {},
   "outputs": [],
   "source": [
    "date=\"08/10/2022\""
   ]
  },
  {
   "cell_type": "code",
   "execution_count": null,
   "id": "6c7f0172",
   "metadata": {},
   "outputs": [],
   "source": [
    "print(date[:2])"
   ]
  },
  {
   "cell_type": "code",
   "execution_count": null,
   "id": "6ef56450",
   "metadata": {},
   "outputs": [],
   "source": [
    "print(date[3:5])"
   ]
  },
  {
   "cell_type": "code",
   "execution_count": null,
   "id": "0bb2ee8a",
   "metadata": {},
   "outputs": [],
   "source": [
    "#use of slicing/indexing in print statemet\n",
    "date=\"08/10/2022\"\n",
    "day=date[:2]\n",
    "month =date[3:5]\n",
    "year =date[6:]\n",
    "print(f\"day is {day} an months is {month} and year is {year}\")"
   ]
  },
  {
   "cell_type": "code",
   "execution_count": null,
   "id": "c836e188",
   "metadata": {},
   "outputs": [],
   "source": [
    "# we can make this user input funtion also \n",
    "date=input(\"Entry date here\")\n",
    "day=date[:2]\n",
    "month =date[3:5]\n",
    "year =date[6:]\n",
    "print(f\"day is {day} an months is {month} and year is {year}\")"
   ]
  },
  {
   "cell_type": "code",
   "execution_count": null,
   "id": "c60aa738",
   "metadata": {},
   "outputs": [],
   "source": [
    "# calcuate year/age\n",
    "year_of_birth=int(input(\"Entry date here \"))\n",
    "age =2022-year_of_birth\n",
    "print(age)"
   ]
  },
  {
   "cell_type": "code",
   "execution_count": null,
   "id": "51f0869b",
   "metadata": {},
   "outputs": [],
   "source": [
    "#Palindrome sequence or revers slicing\n",
    "# when we use [: :] this means we are taking steps in the strgin \n",
    "# here the first : means start second : means end and after last is step\n",
    "sent ='My name is Umesh'\n",
    "len(sent)\n"
   ]
  },
  {
   "cell_type": "code",
   "execution_count": null,
   "id": "a3110e24",
   "metadata": {},
   "outputs": [],
   "source": [
    "sent ='My name is Umesh'\n",
    "print(sent)\n",
    "print(sent[1:14:2])"
   ]
  },
  {
   "cell_type": "code",
   "execution_count": null,
   "id": "3bd33a38",
   "metadata": {},
   "outputs": [],
   "source": [
    "sent[::-1]"
   ]
  },
  {
   "cell_type": "code",
   "execution_count": null,
   "id": "ebe84950",
   "metadata": {},
   "outputs": [],
   "source": [
    "# lets test some words hows are same from in all order\n",
    "# bob\n",
    "#madam\n",
    "#mom\n",
    "#pop\n",
    "#malylam\n",
    "# these type of words are called palindrome words\n",
    "\n",
    "data='mom'\n",
    "print(data[::-1])"
   ]
  },
  {
   "cell_type": "code",
   "execution_count": null,
   "id": "c9d1dee3",
   "metadata": {},
   "outputs": [],
   "source": [
    "data =input(\"enter your string \")\n",
    "rev =data[::-1]\n",
    "if data == rev:\n",
    "    print(f\"input srting is palindrome where data: {data} and revers: {rev}\")\n",
    "else:\n",
    "    print(f\"input srting is not palindrome where data: {data} and revers: {rev}\")"
   ]
  },
  {
   "cell_type": "code",
   "execution_count": null,
   "id": "532e2fb6",
   "metadata": {},
   "outputs": [],
   "source": [
    "data =input(\"enter your string \")\n",
    "rev =data[::-1]\n",
    "if data == rev:\n",
    "    print(f\"input srting is palindrome where data: {data} and revers: {rev}\")\n",
    "else:\n",
    "    print(f\"input srting is not palindrome where data: {data} and revers: {rev}\")"
   ]
  },
  {
   "cell_type": "code",
   "execution_count": null,
   "id": "2ac3f601",
   "metadata": {},
   "outputs": [],
   "source": [
    "#Mutability and non-mutability/immutable\n",
    "# if we can chagne the string index with updated value then its mutable/mutability else is not mutable/non-mutability/immutable\n",
    "name=\"umesh\"\n",
    "name[0]='r'"
   ]
  },
  {
   "cell_type": "code",
   "execution_count": null,
   "id": "5ad113a8",
   "metadata": {},
   "outputs": [],
   "source": [
    "# what if we need to change the value of a string's index \n",
    "name ='Fother' # if this is mistyped and values has been assigned to the variable then how to change it \n",
    "# concate is one option using indexing\n",
    "# as we need to change the value of 0th index we take all the remaining part of string \n",
    "#name[1:]\n",
    "#now concate it and assigne the value back to name variable \n",
    "name =\"M\"+name[1:]\n",
    "# same way we change the string property using this mathod \n",
    "#but strings are immutable\n",
    "name"
   ]
  },
  {
   "cell_type": "code",
   "execution_count": null,
   "id": "f13de798",
   "metadata": {},
   "outputs": [],
   "source": [
    "# other way to change the value of string is string funtions replace()\n",
    "name ='Fother'\n",
    "name =name.replace(\"F\",\"M\")"
   ]
  },
  {
   "cell_type": "code",
   "execution_count": null,
   "id": "ac7eaaae",
   "metadata": {},
   "outputs": [],
   "source": [
    "name"
   ]
  },
  {
   "cell_type": "code",
   "execution_count": null,
   "id": "c933fca4",
   "metadata": {},
   "outputs": [],
   "source": [
    "# to check all the funtions available for string manipulation type the string.and press Tab buttion\n",
    "#you will see all the available funtions "
   ]
  },
  {
   "cell_type": "code",
   "execution_count": null,
   "id": "bc38a4e3",
   "metadata": {},
   "outputs": [],
   "source": [
    "name=\"   Umesh  \""
   ]
  },
  {
   "cell_type": "code",
   "execution_count": null,
   "id": "767071af",
   "metadata": {},
   "outputs": [],
   "source": [
    "len(name)"
   ]
  },
  {
   "cell_type": "code",
   "execution_count": null,
   "id": "907a1f42",
   "metadata": {},
   "outputs": [],
   "source": [
    "len(name.strip())\n",
    "# Strip is used to remove spaces from front and end\n",
    "#rstrip remove the right/ending space and lstrip removes the space from left of starting"
   ]
  },
  {
   "cell_type": "code",
   "execution_count": null,
   "id": "49ed7373",
   "metadata": {},
   "outputs": [],
   "source": [
    "len(name.lstrip())"
   ]
  },
  {
   "cell_type": "code",
   "execution_count": null,
   "id": "44cf71de",
   "metadata": {},
   "outputs": [],
   "source": [
    "len(name.rstrip())"
   ]
  },
  {
   "cell_type": "code",
   "execution_count": null,
   "id": "10776197",
   "metadata": {},
   "outputs": [],
   "source": [
    "# also we can use replace funtion to repalce space with nothing \n",
    "name"
   ]
  },
  {
   "cell_type": "code",
   "execution_count": null,
   "id": "452957ef",
   "metadata": {},
   "outputs": [],
   "source": [
    "name=name.replace(\" \",\"\")\n",
    "len(name)"
   ]
  },
  {
   "cell_type": "code",
   "execution_count": null,
   "id": "b6f4c2ce",
   "metadata": {},
   "outputs": [],
   "source": [
    "# how to count of occurance of a character in string\n",
    "# we use count()\n",
    "name=\"Shree Ram\"\n",
    "name.count(\"e\")"
   ]
  },
  {
   "cell_type": "code",
   "execution_count": null,
   "id": "6a59574b",
   "metadata": {},
   "outputs": [],
   "source": [
    "# how to spli string we will use split funtion , split funtion will always return the result in list format\n",
    "name=\"Shree Ram\"\n",
    "fst_nm, lst_nm =name.split(\" \")\n",
    "print(fst_nm)\n",
    "print(lst_nm)"
   ]
  },
  {
   "cell_type": "code",
   "execution_count": null,
   "id": "c565e025",
   "metadata": {},
   "outputs": [],
   "source": [
    "fst_nm"
   ]
  },
  {
   "cell_type": "code",
   "execution_count": null,
   "id": "49cf4998",
   "metadata": {},
   "outputs": [],
   "source": [
    "name=\"umesh\"\n",
    "name.center(10,\"#\")"
   ]
  },
  {
   "cell_type": "code",
   "execution_count": null,
   "id": "e8ddc393",
   "metadata": {},
   "outputs": [],
   "source": [
    "# for auto correcting we use string funtions \n",
    "name =input(\"enter your name\")\n",
    "\n",
    "print(f\"user input: {name}\")\n",
    "\n",
    "if name.istitle():\n",
    "    print(f\"user has given correct input: {name}\")\n",
    "else:\n",
    "    print(f\"user has given wrong input: {name} we need to correct it\")\n",
    "    name=name.title()\n",
    "    print(f\"correct input is: {name}\")"
   ]
  },
  {
   "cell_type": "code",
   "execution_count": null,
   "id": "75f16daf",
   "metadata": {},
   "outputs": [],
   "source": [
    "# for auto correcting we use string funtions \n",
    "name =input(\"enter your name\")\n",
    "\n",
    "print(f\"user input: {name}\")\n",
    "\n",
    "if name.istitle():\n",
    "    print(f\"user has given correct input: {name}\")\n",
    "else:\n",
    "    print(f\"user has given wrong input: {name} we need to correct it\")\n",
    "    name=name.title()\n",
    "    print(f\"correct input is: {name}\")"
   ]
  },
  {
   "cell_type": "code",
   "execution_count": 7,
   "id": "f4724130",
   "metadata": {},
   "outputs": [
    {
     "name": "stdout",
     "output_type": "stream",
     "text": [
      "999\n",
      "pay amount:899.1\n"
     ]
    }
   ],
   "source": [
    "# IF ELIF ELSE statement \n",
    "total_amount =int(input())\n",
    "\n",
    "if total_amount >=999 and total_amount < 1500:\n",
    "    final_price =total_amount-(total_amount*0.10)\n",
    "    print(f\"pay amount:{final_price}\")\n",
    "elif total_amount >=500 and total_amount <=998:\n",
    "    final_price =total_amount-(total_amount*0.05)\n",
    "    print(f\"pay amount:{final_price}\")\n",
    "else:\n",
    "    print(f\"final price is :{total_amount}\")"
   ]
  },
  {
   "cell_type": "code",
   "execution_count": 10,
   "id": "5c87c4e9",
   "metadata": {},
   "outputs": [
    {
     "name": "stdout",
     "output_type": "stream",
     "text": [
      "Enter your number 1\n",
      "its positive\n"
     ]
    }
   ],
   "source": [
    "## how to check for positive or negative number\n",
    "# lets use nested if & IF\n",
    "number= float(input(\"Enter your number \"))\n",
    "\n",
    "if number ==0:\n",
    "    print(\"its zero\")\n",
    "elif number > 0:\n",
    "    print(\"its positive\")\n",
    "else:\n",
    "    print(\"its negative\")"
   ]
  },
  {
   "cell_type": "code",
   "execution_count": 12,
   "id": "cf103d21",
   "metadata": {},
   "outputs": [
    {
     "name": "stdout",
     "output_type": "stream",
     "text": [
      "Enter your number -10\n",
      "its negative\n"
     ]
    }
   ],
   "source": [
    "#neted if\n",
    "number= float(input(\"Enter your number \"))\n",
    "\n",
    "if number >=0:\n",
    "    if number ==0:\n",
    "        print(\"its zero\")\n",
    "    else:\n",
    "        print(\"its positive\")\n",
    "else:\n",
    "    print(\"its negative\")"
   ]
  },
  {
   "cell_type": "code",
   "execution_count": 13,
   "id": "2337e4c8",
   "metadata": {},
   "outputs": [
    {
     "data": {
      "text/plain": [
       "'Above'"
      ]
     },
     "execution_count": 13,
     "metadata": {},
     "output_type": "execute_result"
    }
   ],
   "source": [
    "# single line code \n",
    "# these codes are written in sigle line (but not recommanded to use in offfical or production code)\n",
    "\"Above\" if 100 >99 else \"Below\""
   ]
  },
  {
   "cell_type": "code",
   "execution_count": 14,
   "id": "ac795046",
   "metadata": {},
   "outputs": [
    {
     "name": "stdout",
     "output_type": "stream",
     "text": [
      "Above\n"
     ]
    }
   ],
   "source": [
    "print(\"Above\" if 100 >99 else \"Below\")"
   ]
  },
  {
   "cell_type": "code",
   "execution_count": 15,
   "id": "d075fdbb",
   "metadata": {},
   "outputs": [
    {
     "name": "stdout",
     "output_type": "stream",
     "text": [
      "Enter your number 110\n",
      "Yes\n"
     ]
    }
   ],
   "source": [
    "# using input \n",
    "num =int(input(\"Enter your number \"))\n",
    "print(\"Yes\" if num>100 else \"No\")"
   ]
  },
  {
   "cell_type": "code",
   "execution_count": 16,
   "id": "3d9df553",
   "metadata": {},
   "outputs": [
    {
     "name": "stdout",
     "output_type": "stream",
     "text": [
      "Enter your number 99\n",
      "No\n"
     ]
    }
   ],
   "source": [
    "# using input \n",
    "num =int(input(\"Enter your number \"))\n",
    "print(\"Yes\" if num>100 else \"No\")"
   ]
  },
  {
   "cell_type": "code",
   "execution_count": 17,
   "id": "bc641f7b",
   "metadata": {},
   "outputs": [
    {
     "name": "stdout",
     "output_type": "stream",
     "text": [
      "your score is : 100\n",
      "i will attempt next year\n",
      "your score is : 200\n",
      "i will attempt next year\n",
      "your score is : 300\n",
      "i will attempt next year\n",
      "your score is : 399\n",
      "i will attempt next year\n"
     ]
    }
   ],
   "source": [
    "# While loop \n",
    "cutoff =400\n",
    "scores =[100,200,300,399,400]\n",
    "year =0\n",
    "\n",
    "while scores[year] < cutoff:\n",
    "    print(f\"your score is : {scores[year]}\")\n",
    "    print(\"i will attempt next year\")\n",
    "    year = year+1    "
   ]
  },
  {
   "cell_type": "code",
   "execution_count": 18,
   "id": "7a462c8e",
   "metadata": {},
   "outputs": [
    {
     "name": "stdout",
     "output_type": "stream",
     "text": [
      "the count is :1 and notes value is :10\n",
      "the count is :2 and notes value is :20\n",
      "the count is :3 and notes value is :30\n",
      "the count is :4 and notes value is :40\n",
      "the count is :5 and notes value is :50\n",
      "the count is :6 and notes value is :60\n",
      "the count is :7 and notes value is :70\n",
      "the count is :8 and notes value is :80\n",
      "the count is :9 and notes value is :90\n",
      "the count is :10 and notes value is :100\n"
     ]
    }
   ],
   "source": [
    "# while loop executes the program as long as the condition is try\n",
    "\n",
    "notes =10\n",
    "count =1 \n",
    "while count <=notes:\n",
    "    print(f\"the count is :{count} and notes value is :{count*10}\")\n",
    "    count =count+1    "
   ]
  },
  {
   "cell_type": "code",
   "execution_count": 31,
   "id": "f42c429c",
   "metadata": {},
   "outputs": [
    {
     "name": "stdout",
     "output_type": "stream",
     "text": [
      "49\n",
      "98\n",
      "147\n",
      "196\n",
      "245\n",
      "294\n",
      "343\n",
      "392\n",
      "441\n",
      "490\n"
     ]
    }
   ],
   "source": [
    "# we can wrtie tables also using the while loop\n",
    "tab =49\n",
    "cnt =1\n",
    "\n",
    "while cnt <=10:\n",
    "    print(tab*cnt)\n",
    "    cnt =cnt+1"
   ]
  }
 ],
 "metadata": {
  "kernelspec": {
   "display_name": "Python 3 (ipykernel)",
   "language": "python",
   "name": "python3"
  },
  "language_info": {
   "codemirror_mode": {
    "name": "ipython",
    "version": 3
   },
   "file_extension": ".py",
   "mimetype": "text/x-python",
   "name": "python",
   "nbconvert_exporter": "python",
   "pygments_lexer": "ipython3",
   "version": "3.9.13"
  }
 },
 "nbformat": 4,
 "nbformat_minor": 5
}
