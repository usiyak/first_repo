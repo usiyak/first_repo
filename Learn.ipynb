{
 "cells": [
  {
   "cell_type": "code",
   "execution_count": 1,
   "id": "a147cb05",
   "metadata": {},
   "outputs": [
    {
     "name": "stdout",
     "output_type": "stream",
     "text": [
      "This is the language of Java Script\n"
     ]
    }
   ],
   "source": [
    "language ='Java Script'\n",
    "print(f\"This is the language of {language}\") # used currently "
   ]
  },
  {
   "cell_type": "code",
   "execution_count": 2,
   "id": "5a100aa8",
   "metadata": {},
   "outputs": [
    {
     "ename": "AttributeError",
     "evalue": "'str' object has no attribute 'formate'",
     "output_type": "error",
     "traceback": [
      "\u001b[1;31m---------------------------------------------------------------------------\u001b[0m",
      "\u001b[1;31mAttributeError\u001b[0m                            Traceback (most recent call last)",
      "\u001b[1;32m~\\AppData\\Local\\Temp\\ipykernel_4696\\1275113153.py\u001b[0m in \u001b[0;36m<module>\u001b[1;34m\u001b[0m\n\u001b[0;32m      1\u001b[0m \u001b[0mlanguage\u001b[0m \u001b[1;33m=\u001b[0m\u001b[1;34m'Java Script'\u001b[0m\u001b[1;33m\u001b[0m\u001b[1;33m\u001b[0m\u001b[0m\n\u001b[1;32m----> 2\u001b[1;33m \u001b[0mprint\u001b[0m\u001b[1;33m(\u001b[0m\u001b[1;34m\"This is the language of {}\"\u001b[0m\u001b[1;33m.\u001b[0m\u001b[0mformate\u001b[0m\u001b[1;33m(\u001b[0m\u001b[0mlanguage\u001b[0m\u001b[1;33m)\u001b[0m\u001b[1;33m)\u001b[0m \u001b[1;31m# used currently\u001b[0m\u001b[1;33m\u001b[0m\u001b[1;33m\u001b[0m\u001b[0m\n\u001b[0m",
      "\u001b[1;31mAttributeError\u001b[0m: 'str' object has no attribute 'formate'"
     ]
    }
   ],
   "source": [
    "language ='Java Script'\n",
    "print(\"This is the language of {}\".formate(language)) # used currently "
   ]
  },
  {
   "cell_type": "code",
   "execution_count": 3,
   "id": "74037d91",
   "metadata": {},
   "outputs": [
    {
     "name": "stdout",
     "output_type": "stream",
     "text": [
      "This is the language of Java Script\n"
     ]
    }
   ],
   "source": [
    "language ='Java Script'\n",
    "print(\"This is the language of {}\".format(language)) # Old ways to fill the blanks using python "
   ]
  },
  {
   "cell_type": "code",
   "execution_count": 4,
   "id": "d0a5fff8",
   "metadata": {},
   "outputs": [
    {
     "name": "stdout",
     "output_type": "stream",
     "text": [
      "This is the first class of python\n"
     ]
    }
   ],
   "source": [
    "#fillig multiple blanks using format option\n",
    "num= 'first'\n",
    "language ='python'\n",
    "print(\"This is the {} class of {}\".format(num,language))"
   ]
  },
  {
   "cell_type": "code",
   "execution_count": 5,
   "id": "de5b8bf5",
   "metadata": {},
   "outputs": [
    {
     "name": "stdout",
     "output_type": "stream",
     "text": [
      "This is the first class of python\n"
     ]
    }
   ],
   "source": [
    "# we cam also use + sign to fill the blanks but not suggested and not professionl \n",
    "num= 'first'\n",
    "language ='python'\n",
    "print(\"This is the \"+num+\" class of \"+language+\"\")"
   ]
  },
  {
   "cell_type": "code",
   "execution_count": 6,
   "id": "01da4814",
   "metadata": {},
   "outputs": [
    {
     "name": "stdout",
     "output_type": "stream",
     "text": [
      "10\n",
      "15\n",
      "the result sum of a:10 and b:15 is c:25\n"
     ]
    }
   ],
   "source": [
    "a=int(input())\n",
    "b=int(input())\n",
    "c=a+b\n",
    "print(f\"the result sum of a:{a} and b:{b} is c:{c}\")"
   ]
  },
  {
   "cell_type": "code",
   "execution_count": 7,
   "id": "64009b7e",
   "metadata": {},
   "outputs": [
    {
     "name": "stdout",
     "output_type": "stream",
     "text": [
      "you are late\n"
     ]
    },
    {
     "data": {
      "text/plain": [
       "False"
      ]
     },
     "execution_count": 7,
     "metadata": {},
     "output_type": "execute_result"
    }
   ],
   "source": [
    "# small program with Bool data and if statement \n",
    "class_start_at =1500\n",
    "you_came_at =1600\n",
    "if you_came_at <class_start_at:\n",
    "    print('You are on time')\n",
    "else:\n",
    "    print(\"you are late\")\n",
    "you_came_at <class_start_at"
   ]
  },
  {
   "cell_type": "code",
   "execution_count": 8,
   "id": "195368f4",
   "metadata": {},
   "outputs": [],
   "source": [
    "# User input funtion and Type conversion in Python"
   ]
  },
  {
   "cell_type": "code",
   "execution_count": 9,
   "id": "5f642ac9",
   "metadata": {},
   "outputs": [],
   "source": [
    "# Multi variable assignement\n",
    "a,b,c=1,'one',1.0"
   ]
  },
  {
   "cell_type": "code",
   "execution_count": 10,
   "id": "8e2101a6",
   "metadata": {},
   "outputs": [
    {
     "name": "stdout",
     "output_type": "stream",
     "text": [
      "<class 'int'>\n",
      "<class 'str'>\n",
      "<class 'float'>\n"
     ]
    }
   ],
   "source": [
    "print(type(a))\n",
    "print(type(b))\n",
    "print(type(c))"
   ]
  },
  {
   "cell_type": "code",
   "execution_count": 16,
   "id": "7a6adf08",
   "metadata": {},
   "outputs": [
    {
     "name": "stdout",
     "output_type": "stream",
     "text": [
      "Enter your name: Umesh\n",
      "Enter your name: Siyak\n",
      "You have entered first name as: Umesh and second name as :Siyak\n"
     ]
    }
   ],
   "source": [
    "# Using f format with input function\n",
    "first_name= input(\"Enter your name: \")\n",
    "sec_name=input(\"Enter your name: \")\n",
    "print(f\"You have entered first name as: {first_name} and second name as :{sec_name}\")\n",
    "#print(\"you have entered:{}\".format(sec_name))"
   ]
  },
  {
   "cell_type": "code",
   "execution_count": 17,
   "id": "dee7ab6f",
   "metadata": {},
   "outputs": [
    {
     "name": "stdout",
     "output_type": "stream",
     "text": [
      "Enter your number12\n",
      "Enter your number12\n",
      "sum of firtNumer:12.0 and sec number :12.0 is :24.0\n"
     ]
    }
   ],
   "source": [
    "fnm=float(input(\"Enter your number\"))\n",
    "snm=float(input(\"Enter your number\"))\n",
    "print(f\"sum of firtNumer:{fnm} and sec number :{snm} is :{fnm+snm}\")"
   ]
  },
  {
   "cell_type": "code",
   "execution_count": 19,
   "id": "e770ead8",
   "metadata": {},
   "outputs": [
    {
     "ename": "ValueError",
     "evalue": "invalid literal for int() with base 10: 'Umesh'",
     "output_type": "error",
     "traceback": [
      "\u001b[1;31m---------------------------------------------------------------------------\u001b[0m",
      "\u001b[1;31mValueError\u001b[0m                                Traceback (most recent call last)",
      "\u001b[1;32m~\\AppData\\Local\\Temp\\ipykernel_4696\\1635176728.py\u001b[0m in \u001b[0;36m<module>\u001b[1;34m\u001b[0m\n\u001b[0;32m      1\u001b[0m \u001b[0ma_a\u001b[0m\u001b[1;33m=\u001b[0m \u001b[1;34m\"Umesh\"\u001b[0m\u001b[1;33m\u001b[0m\u001b[1;33m\u001b[0m\u001b[0m\n\u001b[1;32m----> 2\u001b[1;33m \u001b[0mprint\u001b[0m\u001b[1;33m(\u001b[0m\u001b[0mtype\u001b[0m\u001b[1;33m(\u001b[0m\u001b[0mint\u001b[0m\u001b[1;33m(\u001b[0m\u001b[0ma_a\u001b[0m\u001b[1;33m)\u001b[0m\u001b[1;33m)\u001b[0m\u001b[1;33m)\u001b[0m\u001b[1;33m\u001b[0m\u001b[1;33m\u001b[0m\u001b[0m\n\u001b[0m",
      "\u001b[1;31mValueError\u001b[0m: invalid literal for int() with base 10: 'Umesh'"
     ]
    }
   ],
   "source": [
    "a_a= \"Umesh\"\n",
    "print(type(int(a_a)))"
   ]
  },
  {
   "cell_type": "code",
   "execution_count": 21,
   "id": "830e3311",
   "metadata": {},
   "outputs": [
    {
     "name": "stdout",
     "output_type": "stream",
     "text": [
      "enter your nameUmesh\n",
      "Enter your placeSikar\n",
      "Enter your age28\n",
      "enter your weight80\n",
      "Enter your YOB1995\n",
      "\n",
      "My Name is Umesh\n",
      "I live in Sikar\n",
      "My age is 28\n",
      "My weight is 80\n",
      "I born in 1995\n"
     ]
    }
   ],
   "source": [
    "# how to write output in multiline\n",
    "# define the variables\n",
    "name =input('enter your name')\n",
    "place=input(\"Enter your place\")\n",
    "age=input(\"Enter your age\")\n",
    "wgt=input(\"enter your weight\")\n",
    "birth =input(\"Enter your YOB\")\n",
    "print(f\"\"\"\n",
    "My Name is {name}\n",
    "I live in {place}\n",
    "My age is {age}\n",
    "My weight is {wgt}\n",
    "I born in {birth}\"\"\")"
   ]
  },
  {
   "cell_type": "code",
   "execution_count": 28,
   "id": "54c49532",
   "metadata": {},
   "outputs": [
    {
     "data": {
      "text/plain": [
       "2347844594256"
      ]
     },
     "execution_count": 28,
     "metadata": {},
     "output_type": "execute_result"
    }
   ],
   "source": [
    "# Memory Block in Python\n",
    "# it will assigne the same id to same numbers doesnt matter if variables are different  \n",
    "a=11\n",
    "b=10\n",
    "c=10\n",
    "id(b)"
   ]
  },
  {
   "cell_type": "code",
   "execution_count": 25,
   "id": "a4829b9f",
   "metadata": {},
   "outputs": [
    {
     "data": {
      "text/plain": [
       "2347844594256"
      ]
     },
     "execution_count": 25,
     "metadata": {},
     "output_type": "execute_result"
    }
   ],
   "source": [
    "id(c)"
   ]
  },
  {
   "cell_type": "code",
   "execution_count": 29,
   "id": "2b365161",
   "metadata": {},
   "outputs": [
    {
     "data": {
      "text/plain": [
       "2347929171632"
      ]
     },
     "execution_count": 29,
     "metadata": {},
     "output_type": "execute_result"
    }
   ],
   "source": [
    "a='Khush'\n",
    "b=17\n",
    "id(a)"
   ]
  },
  {
   "cell_type": "code",
   "execution_count": 32,
   "id": "1455e7fd",
   "metadata": {},
   "outputs": [
    {
     "data": {
      "text/plain": [
       "True"
      ]
     },
     "execution_count": 32,
     "metadata": {},
     "output_type": "execute_result"
    }
   ],
   "source": [
    "x=10\n",
    "bool(x)"
   ]
  },
  {
   "cell_type": "code",
   "execution_count": null,
   "id": "80055ecc",
   "metadata": {},
   "outputs": [],
   "source": [
    "# How to check how much space a variale is taking in memory -check yourself"
   ]
  },
  {
   "cell_type": "code",
   "execution_count": null,
   "id": "b2f8a7a1",
   "metadata": {},
   "outputs": [],
   "source": []
  }
 ],
 "metadata": {
  "kernelspec": {
   "display_name": "Python 3 (ipykernel)",
   "language": "python",
   "name": "python3"
  },
  "language_info": {
   "codemirror_mode": {
    "name": "ipython",
    "version": 3
   },
   "file_extension": ".py",
   "mimetype": "text/x-python",
   "name": "python",
   "nbconvert_exporter": "python",
   "pygments_lexer": "ipython3",
   "version": "3.9.13"
  }
 },
 "nbformat": 4,
 "nbformat_minor": 5
}
