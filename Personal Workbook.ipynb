{
 "cells": [
  {
   "cell_type": "markdown",
   "metadata": {},
   "source": [
    "# Java Tutorials file"
   ]
  },
  {
   "cell_type": "code",
   "execution_count": 1,
   "metadata": {},
   "outputs": [],
   "source": [
    "# The print() function displays the given object to the standard output device (screen) or to the text stream file"
   ]
  },
  {
   "cell_type": "code",
   "execution_count": 2,
   "metadata": {},
   "outputs": [
    {
     "name": "stdout",
     "output_type": "stream",
     "text": [
      "my name is umesh\n"
     ]
    }
   ],
   "source": [
    "# using print \n",
    "print('my name is umesh')"
   ]
  },
  {
   "cell_type": "code",
   "execution_count": null,
   "metadata": {},
   "outputs": [],
   "source": [
    "# using \\n to print output in multiline \n",
    "print(\"My \\nname \\nis \\numesh\")\n",
    "# \\n print the output in next line, "
   ]
  },
  {
   "cell_type": "code",
   "execution_count": 5,
   "metadata": {},
   "outputs": [
    {
     "name": "stdout",
     "output_type": "stream",
     "text": [
      "My \n",
      "name \n",
      "is \n",
      "\n",
      "umesh\n"
     ]
    }
   ],
   "source": [
    "#to give space/gap in output we can use multiple \\n\\n     example\n",
    "print(\"My \\nname \\nis \\n\\numesh\")\n",
    "# this will give 2 line space to Umesh output "
   ]
  },
  {
   "cell_type": "markdown",
   "metadata": {},
   "source": [
    "# use of sep and end in python\n",
    "# sep is a parameter value which add perfix to output\n",
    "# like i want to add Mr. befor name"
   ]
  },
  {
   "cell_type": "code",
   "execution_count": 13,
   "metadata": {},
   "outputs": [
    {
     "name": "stdout",
     "output_type": "stream",
     "text": [
      "name is Mr.Umesh\n",
      "\n",
      "name is Mr.Suresh\n",
      "\n",
      "name is Mr.Ramesh\n",
      "\n"
     ]
    }
   ],
   "source": [
    "name=[\"Umesh\",\"Suresh\",\"Ramesh\"] # this is list we will see it in later section\n",
    "for i in name:\n",
    "    print(\"name is \",i,sep='Mr.',end='\\n\\n')\n",
    "# we have used "
   ]
  },
  {
   "cell_type": "markdown",
   "metadata": {},
   "source": [
    "# Taking Input from Users"
   ]
  },
  {
   "cell_type": "code",
   "execution_count": 14,
   "metadata": {},
   "outputs": [
    {
     "name": "stdout",
     "output_type": "stream",
     "text": [
      "Enter your name:Umesh\n",
      "Your name is: Umesh\n"
     ]
    }
   ],
   "source": [
    "#Python provides the input() function which is used to take input from the user. Let's understand the following example\n",
    "# like asking student to enter their name\n",
    "name =input(\"Enter your name:\")\n",
    "print(\"Your name is:\",name)"
   ]
  },
  {
   "cell_type": "code",
   "execution_count": 15,
   "metadata": {},
   "outputs": [
    {
     "name": "stdout",
     "output_type": "stream",
     "text": [
      "Enter your name:Umesh\n",
      "Your name is:Umesh\n"
     ]
    }
   ],
   "source": [
    "# by default input funtion takes string input and gives output as string values\n",
    "name =input(\"Enter your name:\")\n",
    "print(f\"Your name is:{name}\")\n",
    "# f format allows to give value which need to be printed"
   ]
  },
  {
   "cell_type": "code",
   "execution_count": 19,
   "metadata": {},
   "outputs": [
    {
     "name": "stdout",
     "output_type": "stream",
     "text": [
      "Enter first number 5\n",
      "Enter second number 6\n",
      "30\n"
     ]
    }
   ],
   "source": [
    "# we can do the type casting for input function \n",
    "a =int(input(\"Enter first number \"))\n",
    "b =int(input(\"Enter second number \"))\n",
    "print(a*b)"
   ]
  },
  {
   "cell_type": "markdown",
   "metadata": {},
   "source": [
    "# Python Operators\n",
    "Python Data Structures"
   ]
  },
  {
   "cell_type": "code",
   "execution_count": 24,
   "metadata": {},
   "outputs": [],
   "source": [
    "# list\n",
    "#Python list holds the ordered collection of items. We can store a sequence of items in a list.\n",
    "#Python list is mutable which means it can be modified after its creation.\n",
    "#The items of lists are enclosed within the square bracket [] and separated by the comma"
   ]
  },
  {
   "cell_type": "code",
   "execution_count": null,
   "metadata": {},
   "outputs": [],
   "source": []
  }
 ],
 "metadata": {
  "kernelspec": {
   "display_name": "Python 3",
   "language": "python",
   "name": "python3"
  },
  "language_info": {
   "codemirror_mode": {
    "name": "ipython",
    "version": 3
   },
   "file_extension": ".py",
   "mimetype": "text/x-python",
   "name": "python",
   "nbconvert_exporter": "python",
   "pygments_lexer": "ipython3",
   "version": "3.7.3"
  }
 },
 "nbformat": 4,
 "nbformat_minor": 2
}
