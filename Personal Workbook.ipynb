{
 "cells": [
  {
   "cell_type": "markdown",
   "metadata": {},
   "source": [
    "# Java Tutorials file"
   ]
  },
  {
   "cell_type": "code",
   "execution_count": 1,
   "metadata": {},
   "outputs": [],
   "source": [
    "# The print() function displays the given object to the standard output device (screen) or to the text stream file"
   ]
  },
  {
   "cell_type": "code",
   "execution_count": 2,
   "metadata": {},
   "outputs": [
    {
     "name": "stdout",
     "output_type": "stream",
     "text": [
      "my name is umesh\n"
     ]
    }
   ],
   "source": [
    "# using print \n",
    "print('my name is umesh')"
   ]
  },
  {
   "cell_type": "code",
   "execution_count": null,
   "metadata": {},
   "outputs": [],
   "source": [
    "# using \\n to print output in multiline \n",
    "print(\"My \\nname \\nis \\numesh\")\n",
    "# \\n print the output in next line, "
   ]
  },
  {
   "cell_type": "code",
   "execution_count": 5,
   "metadata": {},
   "outputs": [
    {
     "name": "stdout",
     "output_type": "stream",
     "text": [
      "My \n",
      "name \n",
      "is \n",
      "\n",
      "umesh\n"
     ]
    }
   ],
   "source": [
    "#to give space/gap in output we can use multiple \\n\\n     example\n",
    "print(\"My \\nname \\nis \\n\\numesh\")\n",
    "# this will give 2 line space to Umesh output "
   ]
  },
  {
   "cell_type": "markdown",
   "metadata": {},
   "source": [
    "# use of sep and end in python\n",
    "# sep is a parameter value which add perfix to output\n",
    "# like i want to add Mr. befor name"
   ]
  },
  {
   "cell_type": "code",
   "execution_count": 13,
   "metadata": {},
   "outputs": [
    {
     "name": "stdout",
     "output_type": "stream",
     "text": [
      "name is Mr.Umesh\n",
      "\n",
      "name is Mr.Suresh\n",
      "\n",
      "name is Mr.Ramesh\n",
      "\n"
     ]
    }
   ],
   "source": [
    "name=[\"Umesh\",\"Suresh\",\"Ramesh\"] # this is list we will see it in later section\n",
    "for i in name:\n",
    "    print(\"name is \",i,sep='Mr.',end='\\n\\n')\n",
    "# we have used "
   ]
  },
  {
   "cell_type": "markdown",
   "metadata": {},
   "source": [
    "# Taking Input from Users"
   ]
  },
  {
   "cell_type": "code",
   "execution_count": 14,
   "metadata": {},
   "outputs": [
    {
     "name": "stdout",
     "output_type": "stream",
     "text": [
      "Enter your name:Umesh\n",
      "Your name is: Umesh\n"
     ]
    }
   ],
   "source": [
    "#Python provides the input() function which is used to take input from the user. Let's understand the following example\n",
    "# like asking student to enter their name\n",
    "name =input(\"Enter your name:\")\n",
    "print(\"Your name is:\",name)"
   ]
  },
  {
   "cell_type": "code",
   "execution_count": 15,
   "metadata": {},
   "outputs": [
    {
     "name": "stdout",
     "output_type": "stream",
     "text": [
      "Enter your name:Umesh\n",
      "Your name is:Umesh\n"
     ]
    }
   ],
   "source": [
    "# by default input funtion takes string input and gives output as string values\n",
    "name =input(\"Enter your name:\")\n",
    "print(f\"Your name is:{name}\")\n",
    "# f format allows to give value which need to be printed"
   ]
  },
  {
   "cell_type": "code",
   "execution_count": 19,
   "metadata": {},
   "outputs": [
    {
     "name": "stdout",
     "output_type": "stream",
     "text": [
      "Enter first number 5\n",
      "Enter second number 6\n",
      "30\n"
     ]
    }
   ],
   "source": [
    "# we can do the type casting for input function \n",
    "a =int(input(\"Enter first number \"))\n",
    "b =int(input(\"Enter second number \"))\n",
    "print(a*b)"
   ]
  },
  {
   "cell_type": "markdown",
   "metadata": {},
   "source": [
    "# Python Operators\n",
    "Python Data Structures"
   ]
  },
  {
   "cell_type": "code",
   "execution_count": 1,
   "metadata": {},
   "outputs": [
    {
     "data": {
      "text/plain": [
       "'\\nlist\\nPython list holds the ordered collection of items. We can store a sequence of items in a list.\\nPython list is mutable which means it can be modified after its creation.\\nThe items of lists are enclosed within the square bracket [] and separated by the comma\\n'"
      ]
     },
     "execution_count": 1,
     "metadata": {},
     "output_type": "execute_result"
    }
   ],
   "source": [
    "\"\"\"\n",
    "list\n",
    "Python list holds the ordered collection of items. We can store a sequence of items in a list.\n",
    "Python list is mutable which means it can be modified after its creation.\n",
    "The items of lists are enclosed within the square bracket [] and separated by the comma\n",
    "\"\"\""
   ]
  },
  {
   "cell_type": "markdown",
   "metadata": {},
   "source": [
    "# Variables declaration in Python"
   ]
  },
  {
   "cell_type": "code",
   "execution_count": 5,
   "metadata": {},
   "outputs": [
    {
     "name": "stdout",
     "output_type": "stream",
     "text": [
      "var name1 var name2 var name3 var name4 var name5 var name6 var name7\n"
     ]
    }
   ],
   "source": [
    "var ='var name1'\n",
    "Var ='var name2'\n",
    "VAR ='var name3'\n",
    "_var ='var name4'\n",
    "var_ ='var name5'\n",
    "v_a_r ='var name6'\n",
    "v56ar ='var name7'\n",
    "#56_var ='is valid' these are not the valid variable name\n",
    "#56 =\"is Valid\"     as starting with numerical values\n",
    "\n",
    "print(var,Var,VAR,_var,var_,v_a_r,v56ar)"
   ]
  },
  {
   "cell_type": "code",
   "execution_count": 7,
   "metadata": {},
   "outputs": [
    {
     "ename": "SyntaxError",
     "evalue": "cannot assign to literal (3182562646.py, line 2)",
     "output_type": "error",
     "traceback": [
      "\u001b[1;36m  File \u001b[1;32m\"C:\\Users\\umesh\\AppData\\Local\\Temp\\ipykernel_3180\\3182562646.py\"\u001b[1;36m, line \u001b[1;32m2\u001b[0m\n\u001b[1;33m    56 =\"is Valid\"\u001b[0m\n\u001b[1;37m    ^\u001b[0m\n\u001b[1;31mSyntaxError\u001b[0m\u001b[1;31m:\u001b[0m cannot assign to literal\n"
     ]
    }
   ],
   "source": [
    "56_var ='is valid'\n",
    "56 =\"is Valid\"  # this will give \"cannot assign to literal\"error"
   ]
  },
  {
   "cell_type": "markdown",
   "metadata": {},
   "source": [
    "# Multiple Assignment "
   ]
  },
  {
   "cell_type": "code",
   "execution_count": 10,
   "metadata": {},
   "outputs": [
    {
     "name": "stdout",
     "output_type": "stream",
     "text": [
      "Umesh Umesh Umesh\n"
     ]
    }
   ],
   "source": [
    "#We can apply multiple assignments in two ways, either by assigning a single value to multiple variables or assigning multiple values to multiple variables. Consider the following example.\n",
    "\n",
    "name=identifity=person ='Umesh'\n",
    "\n",
    "print(name,identifity,person)"
   ]
  },
  {
   "cell_type": "code",
   "execution_count": 11,
   "metadata": {},
   "outputs": [
    {
     "name": "stdout",
     "output_type": "stream",
     "text": [
      "umesh 5.11 80 5000k\n"
     ]
    }
   ],
   "source": [
    "# other way to assigne values\n",
    "name,hight,weight,income ='umesh',5.11,80,'5000k'\n",
    "print(name,hight,weight,income)"
   ]
  },
  {
   "cell_type": "markdown",
   "metadata": {},
   "source": [
    "# Local Variable\n",
    "Any vaiable which has been declared inside the funtion is called Local variable which has scope within the defined funtion."
   ]
  },
  {
   "cell_type": "code",
   "execution_count": 14,
   "metadata": {},
   "outputs": [
    {
     "name": "stdout",
     "output_type": "stream",
     "text": [
      "The sum of 1,2,3 is 6.\n"
     ]
    }
   ],
   "source": [
    "def add():\n",
    "    a=1\n",
    "    b=2\n",
    "    c=3\n",
    "    d=a+b+c\n",
    "    print(f'The sum of {a},{b},{c} is {d}.')\n",
    "# variable d is local veriable here as this is defined in the funtion and limited to it only\n",
    "add()"
   ]
  },
  {
   "cell_type": "code",
   "execution_count": 18,
   "metadata": {},
   "outputs": [
    {
     "name": "stdout",
     "output_type": "stream",
     "text": [
      "The sum of 1,2,3 is 6.\n"
     ]
    },
    {
     "ename": "NameError",
     "evalue": "name 'd' is not defined",
     "output_type": "error",
     "traceback": [
      "\u001b[1;31m---------------------------------------------------------------------------\u001b[0m",
      "\u001b[1;31mNameError\u001b[0m                                 Traceback (most recent call last)",
      "\u001b[1;32m~\\AppData\\Local\\Temp\\ipykernel_3180\\4283465730.py\u001b[0m in \u001b[0;36m<module>\u001b[1;34m\u001b[0m\n\u001b[0;32m      3\u001b[0m \u001b[1;33m\u001b[0m\u001b[0m\n\u001b[0;32m      4\u001b[0m \u001b[0madd\u001b[0m\u001b[1;33m(\u001b[0m\u001b[1;33m)\u001b[0m\u001b[1;33m\u001b[0m\u001b[1;33m\u001b[0m\u001b[0m\n\u001b[1;32m----> 5\u001b[1;33m \u001b[0mprint\u001b[0m\u001b[1;33m(\u001b[0m\u001b[0md\u001b[0m\u001b[1;33m)\u001b[0m\u001b[1;33m\u001b[0m\u001b[1;33m\u001b[0m\u001b[0m\n\u001b[0m",
      "\u001b[1;31mNameError\u001b[0m: name 'd' is not defined"
     ]
    }
   ],
   "source": [
    "#if we call the funtion outside the funtion it will give name erroe.\n",
    "#nameError= when python does not find any variable with the name is give NameError\n",
    "#notice the below error \n",
    "add()\n",
    "print(d)"
   ]
  },
  {
   "cell_type": "markdown",
   "metadata": {},
   "source": [
    "# Global Variable\n",
    "Any variable which is declared out the funtion and within the program is called Global Variable"
   ]
  },
  {
   "cell_type": "code",
   "execution_count": 26,
   "metadata": {},
   "outputs": [
    {
     "name": "stdout",
     "output_type": "stream",
     "text": [
      "1\n",
      "1\n",
      "1\n",
      "Welcome To Javatpoint\n"
     ]
    }
   ],
   "source": [
    "# Declare a variable \n",
    "val =1  \n",
    "  \n",
    "# Global variable in function  \n",
    "def glob_val():  \n",
    "    # printing a global variable  \n",
    "    global val  \n",
    "    print(val)\n",
    "    # modifying a global variable  \n",
    "    x = 'val'  \n",
    "    print(val)  \n",
    "glob_val()  \n",
    "print(val)\n",
    "print(x)"
   ]
  },
  {
   "cell_type": "code",
   "execution_count": 36,
   "metadata": {},
   "outputs": [
    {
     "name": "stdout",
     "output_type": "stream",
     "text": [
      "1\n",
      "Value changed from 1 to Welcome\n",
      "Value changed from 1 to Welcome\n"
     ]
    }
   ],
   "source": [
    "val=1\n",
    "\n",
    "def gl_val():\n",
    "    global val # makinr val a global variable\n",
    "    print(val)\n",
    "# modifying the value of Val\n",
    "    val='Value changed from 1 to Welcome'\n",
    "    print(val) # printing new value of Var\n",
    "gl_val()\n",
    "print(val)"
   ]
  },
  {
   "cell_type": "code",
   "execution_count": 37,
   "metadata": {},
   "outputs": [],
   "source": [
    "#How to delete variable \n",
    "del gl_val"
   ]
  },
  {
   "cell_type": "code",
   "execution_count": 38,
   "metadata": {},
   "outputs": [
    {
     "ename": "NameError",
     "evalue": "name 'gl_val' is not defined",
     "output_type": "error",
     "traceback": [
      "\u001b[1;31m---------------------------------------------------------------------------\u001b[0m",
      "\u001b[1;31mNameError\u001b[0m                                 Traceback (most recent call last)",
      "\u001b[1;32m~\\AppData\\Local\\Temp\\ipykernel_3180\\3131130467.py\u001b[0m in \u001b[0;36m<module>\u001b[1;34m\u001b[0m\n\u001b[1;32m----> 1\u001b[1;33m \u001b[0mgl_val\u001b[0m\u001b[1;33m(\u001b[0m\u001b[1;33m)\u001b[0m\u001b[1;33m\u001b[0m\u001b[1;33m\u001b[0m\u001b[0m\n\u001b[0m\u001b[0;32m      2\u001b[0m \u001b[0mprint\u001b[0m\u001b[1;33m(\u001b[0m\u001b[0mval\u001b[0m\u001b[1;33m)\u001b[0m\u001b[1;33m\u001b[0m\u001b[1;33m\u001b[0m\u001b[0m\n",
      "\u001b[1;31mNameError\u001b[0m: name 'gl_val' is not defined"
     ]
    }
   ],
   "source": [
    "gl_val()\n",
    "print(val)"
   ]
  },
  {
   "cell_type": "code",
   "execution_count": 44,
   "metadata": {},
   "outputs": [
    {
     "name": "stdout",
     "output_type": "stream",
     "text": [
      "string using double quotes\n",
      "A multiline \n",
      "string\n"
     ]
    }
   ],
   "source": [
    "str = \"string using double quotes\"  \n",
    "print(str)  \n",
    "s = '''A multiline \n",
    "string'''  \n",
    "print(s)  "
   ]
  },
  {
   "cell_type": "code",
   "execution_count": 51,
   "metadata": {},
   "outputs": [],
   "source": [
    "# Python program to demonstrate the application of iskeyword()  \n",
    "# importing keyword library which has lists  \n",
    "import keyword  \n",
    "    \n",
    "# displaying the complete list using \"kwlist().\"  \n",
    "#print(\"The set of keywords in this version is: \")  \n",
    "#print( keyword.kwlis"
   ]
  },
  {
   "cell_type": "code",
   "execution_count": 52,
   "metadata": {},
   "outputs": [
    {
     "data": {
      "text/plain": [
       "<module 'keyword' from 'E:\\\\Anaconda\\\\lib\\\\keyword.py'>"
      ]
     },
     "execution_count": 52,
     "metadata": {},
     "output_type": "execute_result"
    }
   ],
   "source": [
    "keyword"
   ]
  },
  {
   "cell_type": "code",
   "execution_count": 54,
   "metadata": {},
   "outputs": [
    {
     "name": "stdout",
     "output_type": "stream",
     "text": [
      "The set of keywords in this version is: \n"
     ]
    },
    {
     "ename": "AttributeError",
     "evalue": "module 'keyword' has no attribute 'kwlis'",
     "output_type": "error",
     "traceback": [
      "\u001b[1;31m---------------------------------------------------------------------------\u001b[0m",
      "\u001b[1;31mAttributeError\u001b[0m                            Traceback (most recent call last)",
      "\u001b[1;32m~\\AppData\\Local\\Temp\\ipykernel_3180\\298014907.py\u001b[0m in \u001b[0;36m<module>\u001b[1;34m\u001b[0m\n\u001b[0;32m      1\u001b[0m \u001b[0mprint\u001b[0m\u001b[1;33m(\u001b[0m\u001b[1;34m\"The set of keywords in this version is: \"\u001b[0m\u001b[1;33m)\u001b[0m\u001b[1;33m\u001b[0m\u001b[1;33m\u001b[0m\u001b[0m\n\u001b[1;32m----> 2\u001b[1;33m \u001b[0mprint\u001b[0m\u001b[1;33m(\u001b[0m \u001b[0mkeyword\u001b[0m\u001b[1;33m.\u001b[0m\u001b[0mkwlis\u001b[0m\u001b[1;33m(\u001b[0m\u001b[1;33m)\u001b[0m\u001b[1;33m)\u001b[0m\u001b[1;33m\u001b[0m\u001b[1;33m\u001b[0m\u001b[0m\n\u001b[0m",
      "\u001b[1;31mAttributeError\u001b[0m: module 'keyword' has no attribute 'kwlis'"
     ]
    }
   ],
   "source": [
    "print(\"The set of keywords in this version is: \")  \n",
    "print( keyword.kwlis())"
   ]
  },
  {
   "cell_type": "code",
   "execution_count": 55,
   "metadata": {},
   "outputs": [
    {
     "name": "stdout",
     "output_type": "stream",
     "text": [
      "\n",
      "Here is a list of the Python keywords.  Enter any keyword to get more help.\n",
      "\n",
      "False               break               for                 not\n",
      "None                class               from                or\n",
      "True                continue            global              pass\n",
      "__peg_parser__      def                 if                  raise\n",
      "and                 del                 import              return\n",
      "as                  elif                in                  try\n",
      "assert              else                is                  while\n",
      "async               except              lambda              with\n",
      "await               finally             nonlocal            yield\n",
      "\n"
     ]
    }
   ],
   "source": [
    "help(\"keywords\")  "
   ]
  },
  {
   "cell_type": "markdown",
   "metadata": {},
   "source": [
    "# lets see some bool examples\n",
    "in values True is =1 and False is =0"
   ]
  },
  {
   "cell_type": "code",
   "execution_count": 56,
   "metadata": {},
   "outputs": [
    {
     "name": "stdout",
     "output_type": "stream",
     "text": [
      "True\n"
     ]
    }
   ],
   "source": [
    "print('Ram'=='Ram')"
   ]
  },
  {
   "cell_type": "code",
   "execution_count": 59,
   "metadata": {},
   "outputs": [
    {
     "name": "stdout",
     "output_type": "stream",
     "text": [
      "False\n",
      "True\n"
     ]
    }
   ],
   "source": [
    "print('a'=='b')\n",
    "print('a'!='b')"
   ]
  },
  {
   "cell_type": "code",
   "execution_count": 60,
   "metadata": {},
   "outputs": [
    {
     "name": "stdout",
     "output_type": "stream",
     "text": [
      "True\n"
     ]
    }
   ],
   "source": [
    "print(True)"
   ]
  },
  {
   "cell_type": "code",
   "execution_count": 61,
   "metadata": {},
   "outputs": [
    {
     "name": "stdout",
     "output_type": "stream",
     "text": [
      "2\n"
     ]
    }
   ],
   "source": [
    "print(True+True)"
   ]
  },
  {
   "cell_type": "code",
   "execution_count": 62,
   "metadata": {},
   "outputs": [
    {
     "name": "stdout",
     "output_type": "stream",
     "text": [
      "False\n"
     ]
    }
   ],
   "source": [
    "print(False)"
   ]
  },
  {
   "cell_type": "code",
   "execution_count": 63,
   "metadata": {},
   "outputs": [
    {
     "name": "stdout",
     "output_type": "stream",
     "text": [
      "0\n"
     ]
    }
   ],
   "source": [
    "print(False+False)"
   ]
  },
  {
   "cell_type": "code",
   "execution_count": 64,
   "metadata": {},
   "outputs": [
    {
     "name": "stdout",
     "output_type": "stream",
     "text": [
      "True\n",
      "True\n"
     ]
    }
   ],
   "source": [
    "print(True==1)\n",
    "print(False==0)"
   ]
  },
  {
   "cell_type": "markdown",
   "metadata": {},
   "source": [
    "# print(False==1)"
   ]
  },
  {
   "cell_type": "code",
   "execution_count": 66,
   "metadata": {},
   "outputs": [
    {
     "name": "stdout",
     "output_type": "stream",
     "text": [
      "True\n",
      "False\n"
     ]
    }
   ],
   "source": [
    "contain = \"Javatpoint\"  \n",
    "print( \"p\" in contain)  \n",
    "print( \"P\" in contain)  "
   ]
  },
  {
   "cell_type": "code",
   "execution_count": 68,
   "metadata": {},
   "outputs": [
    {
     "name": "stdout",
     "output_type": "stream",
     "text": [
      "True\n"
     ]
    }
   ],
   "source": [
    "# Compare two list \n",
    "l1=['a','b',1,2]\n",
    "\n",
    "print('a' in l1)"
   ]
  },
  {
   "cell_type": "markdown",
   "metadata": {},
   "source": [
    "# nonlocal kryword\n",
    "Nonlocal keyword usage is fairly analogous to global keyword usage. The keyword nonlocal is designed to indicate that a variable within a function that is inside a function, i.e., a nested function is just not local to it, implying that it is located in the outer function. We must define a non-local parameter with nonlocal if we ever need to change its value under a nested function. Otherwise, the nested function creates a local variable using that title. The example below will assist us in clarifying this"
   ]
  },
  {
   "cell_type": "code",
   "execution_count": 72,
   "metadata": {},
   "outputs": [
    {
     "name": "stdout",
     "output_type": "stream",
     "text": [
      "The value inside the inner function:  14\n",
      "The value inside the outer function:  14\n"
     ]
    }
   ],
   "source": [
    "def outer_function():  \n",
    "    var = 10  \n",
    "    def inner_function():  \n",
    "        nonlocal var  \n",
    "        var = 14  \n",
    "        print(\"The value inside the inner function: \", var)  \n",
    "    inner_function()  \n",
    "    print(\"The value inside the outer function: \", var)  \n",
    "  \n",
    "outer_function()  \n",
    "\n",
    "# here the nonlocal keyward is making changable, lets see the code without it "
   ]
  },
  {
   "cell_type": "code",
   "execution_count": 74,
   "metadata": {},
   "outputs": [
    {
     "name": "stdout",
     "output_type": "stream",
     "text": [
      "The value inside the inner function:  14\n",
      "The value inside the outer function:  14\n"
     ]
    }
   ],
   "source": [
    "def outer_fun():\n",
    "    var=10\n",
    "    def inner_fun():\n",
    "        # nonlocal var is not used here so values are different\n",
    "        var =14\n",
    "        print(\"The value inside the inner function: \", var)\n",
    "    inner_fun()\n",
    "    print(\"The value inside the outer function: \", var)\n",
    "\n",
    "outer_fun()"
   ]
  },
  {
   "cell_type": "markdown",
   "metadata": {},
   "source": [
    "# Iteration Keywords: for, while, break, continue\n",
    "\n",
    "For Loop =It's built by blending two Python keywords. They are for and in.\n",
    "\n",
    "While Loop =\n",
    "Python's while loop employs the term while and functions similarly to other computer languages' while loops. The block after the while phrase will be repeated repeatedly until the condition following the while keyword is false.\n",
    "\n",
    "Break =If we want to quickly break out of a loop, employ the break keyword. We can use this keyword in both for and while loops.\n",
    "\n",
    "Continue =We can use the continue Python keyword if you wish to jump to the subsequent loop iteration. The continue keyword, as in many other computer languages, enables you to quit performing the present loop iteration and go on to the subsequent one."
   ]
  },
  {
   "cell_type": "code",
   "execution_count": 76,
   "metadata": {},
   "outputs": [
    {
     "name": "stdout",
     "output_type": "stream",
     "text": [
      "0 1 2 3 4 5 6 7 8 9 "
     ]
    }
   ],
   "source": [
    "for i in range(10):\n",
    "    print(i, end=\" \") # we use end=\" \" to print the result in single line insted of multiple line."
   ]
  },
  {
   "cell_type": "code",
   "execution_count": 86,
   "metadata": {},
   "outputs": [
    {
     "name": "stdout",
     "output_type": "stream",
     "text": [
      "4 5 6 7 8 9 10 11 12 13 \n",
      "\n",
      "2 3 4 5 6 7 8 9 10 11 "
     ]
    }
   ],
   "source": [
    "for i in range(10):\n",
    "    print(i+4, end=' ')\n",
    "# i+number will start the print or range of i from that number\n",
    "print('')\n",
    "print('')\n",
    "for i in range(10):\n",
    "    print(i+2, end=\" \")"
   ]
  },
  {
   "cell_type": "code",
   "execution_count": 101,
   "metadata": {},
   "outputs": [
    {
     "name": "stdout",
     "output_type": "stream",
     "text": [
      "0\n",
      "1\n",
      "2\n",
      "3\n",
      "4\n",
      "5\n",
      "6\n",
      "7\n",
      "8 is equal to 8\n"
     ]
    }
   ],
   "source": [
    "# break statement \n",
    "for i in range(10):\n",
    "    if i==8:\n",
    "        print(i, 'is equal to 8')\n",
    "        break # this will break the loop when i ==8\n",
    "    print(i)"
   ]
  },
  {
   "cell_type": "code",
   "execution_count": 109,
   "metadata": {},
   "outputs": [
    {
     "name": "stdout",
     "output_type": "stream",
     "text": [
      "0\n",
      "1\n",
      "2\n",
      "3\n",
      "4\n",
      "5\n",
      "6\n",
      "7\n",
      "8 is equal to 8\n",
      "9\n"
     ]
    }
   ],
   "source": [
    "for i in range(10):\n",
    "    if i==8:\n",
    "        print(i, 'is equal to 8')\n",
    "        continue # this will not break the loop when i ==8\n",
    "    print(i)"
   ]
  },
  {
   "cell_type": "code",
   "execution_count": 119,
   "metadata": {},
   "outputs": [
    {
     "name": "stdout",
     "output_type": "stream",
     "text": [
      "20 100 141 301\n"
     ]
    }
   ],
   "source": [
    "x = 0b10100 #Binary Literals \n",
    "# to convert Binary into int we use multiply formula \n",
    "# like start from left (1) go to right and keep muliplying and then add them \n",
    "# first 0 =1 then 1*2 =2 ,2*2=4,4*2=8,8*2=16 to we have 1 in number on position of 3rd number =4 + 5th number=16 so the result is 20 \n",
    "y = 100 #Decimal Literal   \n",
    "z = 0o215 #Octal Literal  \n",
    "u = 0x12d #Hexadecimal Literal  \n",
    "  \n",
    "#Float Literal  \n",
    "#float_1 = 100.5   \n",
    "#float_2 = 1.5e2  \n",
    "  \n",
    "#Complex Literal   \n",
    "#a = 5+3.14j  \n",
    "  \n",
    "print(x, y, z, u)  \n",
    "#print(float_1, float_2)  \n",
    "#print(a, a.imag, a.real) "
   ]
  },
  {
   "cell_type": "code",
   "execution_count": null,
   "metadata": {},
   "outputs": [],
   "source": []
  }
 ],
 "metadata": {
  "kernelspec": {
   "display_name": "Python 3 (ipykernel)",
   "language": "python",
   "name": "python3"
  },
  "language_info": {
   "codemirror_mode": {
    "name": "ipython",
    "version": 3
   },
   "file_extension": ".py",
   "mimetype": "text/x-python",
   "name": "python",
   "nbconvert_exporter": "python",
   "pygments_lexer": "ipython3",
   "version": "3.9.13"
  }
 },
 "nbformat": 4,
 "nbformat_minor": 2
}
