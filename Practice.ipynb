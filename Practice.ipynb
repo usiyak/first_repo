{
 "cells": [
  {
   "cell_type": "code",
   "execution_count": 1,
   "id": "15d0a8f4",
   "metadata": {},
   "outputs": [
    {
     "name": "stdout",
     "output_type": "stream",
     "text": [
      "Twinkle, twinkle, little star,\n",
      "\tHow I wonder what you are!\n",
      "\t\tUp above the world so high,\n",
      "\t\tLike a diamond in the sky.\n",
      "Twinkle, twinkle, little star,\n",
      "\tHow I wonder what you are\n"
     ]
    }
   ],
   "source": [
    "print(\"Twinkle, twinkle, little star,\\n\\tHow I wonder what you are!\\n\\t\\tUp above the world so high,\\n\\t\\tLike a diamond in the sky.\\nTwinkle, twinkle, little star,\\n\\tHow I wonder what you are\")"
   ]
  },
  {
   "cell_type": "code",
   "execution_count": 2,
   "id": "7a13e3cc",
   "metadata": {},
   "outputs": [
    {
     "name": "stdout",
     "output_type": "stream",
     "text": [
      "2022-12-04 19:14:49.408330\n"
     ]
    }
   ],
   "source": [
    "#print current date time \n",
    "import datetime\n",
    "now =datetime.datetime.now()\n",
    "print(now)"
   ]
  },
  {
   "cell_type": "code",
   "execution_count": 3,
   "id": "dac0cc6a",
   "metadata": {},
   "outputs": [
    {
     "name": "stdout",
     "output_type": "stream",
     "text": [
      "Input the radius of the circle : 3\n",
      "The area of the circle with radius 3.0 is: 28.274333882308138\n"
     ]
    }
   ],
   "source": [
    "#Write a Python program which accepts the radius of a circle from the user and compute the area.\n",
    "from math import pi\n",
    "r = float(input (\"Input the radius of the circle : \"))\n",
    "print (\"The area of the circle with radius \" + str(r) + \" is: \" + str(pi * r**2))"
   ]
  },
  {
   "cell_type": "code",
   "execution_count": 4,
   "id": "4aeeea20",
   "metadata": {},
   "outputs": [
    {
     "name": "stdout",
     "output_type": "stream",
     "text": [
      "Enter your first nameumesh\n",
      "Enter your last namesiyak\n",
      "hsemu kayis\n"
     ]
    }
   ],
   "source": [
    "#Write a Python program which accepts the user's first and last name and print them in reverse order with a space between them.\n",
    "first_name =input(\"Enter your first name\")\n",
    "last_name =input(\"Enter your last name\")\n",
    "print(first_name[: :-1] +\" \"+last_name[: :-1] )"
   ]
  },
  {
   "cell_type": "code",
   "execution_count": 5,
   "id": "c35fc05d",
   "metadata": {},
   "outputs": [
    {
     "name": "stdout",
     "output_type": "stream",
     "text": [
      "Enter your number with comma-sperated1,2,3,4\n",
      "['1', '2', '3', '4']\n",
      "('1', '2', '3', '4')\n"
     ]
    }
   ],
   "source": [
    "# Write a Python program which accepts a sequence of comma-separated numbers from user \n",
    "# and generate a list and a tuple with those numbers\n",
    "List =input(\"Enter your number with comma-sperated\")\n",
    "lst =List.split(\",\")\n",
    "print (list(lst))\n",
    "print(tuple(lst))"
   ]
  },
  {
   "cell_type": "code",
   "execution_count": 6,
   "id": "d43b1776",
   "metadata": {},
   "outputs": [
    {
     "name": "stdout",
     "output_type": "stream",
     "text": [
      "type file name here with extension sheet.xlsx\n",
      "xlsx\n"
     ]
    }
   ],
   "source": [
    "# Write a Python program to accept a filename from the user and print the extension of that\n",
    "#Sample filename : abc.java\n",
    "#Output : java\n",
    "\n",
    "file_name =input(\"type file name here with extension \")\n",
    "filename =file_name.split(\".\")\n",
    "pr =filename.pop(1)\n",
    "print(pr)"
   ]
  },
  {
   "cell_type": "code",
   "execution_count": 7,
   "id": "84e6f21a",
   "metadata": {},
   "outputs": [
    {
     "name": "stdout",
     "output_type": "stream",
     "text": [
      "Input the Filename: sheet.xlsx\n",
      "The extension of the file is : 'xlsx'\n"
     ]
    }
   ],
   "source": [
    "# Write a Python program to accept a filename from the user and print the extension of that\n",
    "#Sample filename : abc.java\n",
    "#Output : java\n",
    "filename = input(\"Input the Filename: \")\n",
    "f_extns = filename.split(\".\")\n",
    "print (\"The extension of the file is : \" + repr(f_extns[-1]))"
   ]
  },
  {
   "cell_type": "code",
   "execution_count": 15,
   "id": "acdf9574",
   "metadata": {},
   "outputs": [
    {
     "name": "stdout",
     "output_type": "stream",
     "text": [
      "The examination will start from :11 / 12/ 2014\n"
     ]
    }
   ],
   "source": [
    "# Write a Python program to display the examination schedule. (extract the date from exam_st_date). Go to the editor\n",
    "# exam_st_date = (11, 12, 2014)\n",
    "# Sample Output : The examination will start from : 11 / 12 / 2014\n",
    "exam_st_date = (11, 12, 2014)\n",
    "print(f\"The examination will start from :{exam_st_date[0]} / {exam_st_date[1]}/ {exam_st_date[2]}\")"
   ]
  },
  {
   "cell_type": "code",
   "execution_count": 18,
   "id": "abf1963d",
   "metadata": {},
   "outputs": [
    {
     "name": "stdout",
     "output_type": "stream",
     "text": [
      "The examination will start from :11 /12/2014\n"
     ]
    }
   ],
   "source": [
    "exam_st_date = (11, 12, 2014)\n",
    "# we can use %i for formattin like many % operation used for formatting \n",
    "print(\"The examination will start from :%i /%i/%i\"%exam_st_date)"
   ]
  },
  {
   "cell_type": "code",
   "execution_count": 19,
   "id": "1e71473f",
   "metadata": {},
   "outputs": [
    {
     "name": "stdout",
     "output_type": "stream",
     "text": [
      "Input an integer : 5\n",
      "615\n"
     ]
    }
   ],
   "source": [
    "#Write a Python program that accepts an integer (n) and computes the value of n+nn+nnn\n",
    "#Sample value of n is 5\n",
    "a = int(input(\"Input an integer : \"))\n",
    "n =int(\"%s\" %a)\n",
    "n1 =int(\"%s%s\"%(a,a))\n",
    "n2 = int( \"%s%s%s\" % (a,a,a) )\n",
    "print (n+n1+n2)"
   ]
  },
  {
   "cell_type": "code",
   "execution_count": null,
   "id": "9b3e453d",
   "metadata": {},
   "outputs": [],
   "source": []
  }
 ],
 "metadata": {
  "kernelspec": {
   "display_name": "Python 3 (ipykernel)",
   "language": "python",
   "name": "python3"
  },
  "language_info": {
   "codemirror_mode": {
    "name": "ipython",
    "version": 3
   },
   "file_extension": ".py",
   "mimetype": "text/x-python",
   "name": "python",
   "nbconvert_exporter": "python",
   "pygments_lexer": "ipython3",
   "version": "3.9.13"
  }
 },
 "nbformat": 4,
 "nbformat_minor": 5
}
